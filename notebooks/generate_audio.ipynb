{
 "cells": [
  {
   "cell_type": "markdown",
   "metadata": {},
   "source": [
    "Generate from another sample\n",
    "--\n",
    "\n",
    "Set `outname` to be the base filename for the output file (stored to the *.generated* directory)\n",
    "\n",
    "Set `c2file` to be the filename of the Codec2 encoded file containing the seed\n",
    "\n",
    "Set `seed_start_index` to be one of: `\"random\"`, the frame number, or more conveniently the number of seconds into the audio (for example `\"27s\"`)\n",
    "\n",
    "The generator takes several minutes to complete. It will not run if the `outname`_.wav_ file already exists.\n",
    "\n",
    "The first 5 seconds of audio are the original seed data. The remaining audio is generated from the network model specified."
   ]
  },
  {
   "cell_type": "code",
   "execution_count": null,
   "metadata": {},
   "outputs": [
    {
     "name": "stdout",
     "output_type": "stream",
     "text": [
      "Starting generator - this could take some time\n"
     ]
    }
   ],
   "source": [
    "force_run = False\n",
    "\n",
    "network_model = \"func-28-1-3\"\n",
    "iter1 = 27830\n",
    "\n",
    "fn_postfix = 'output_'+ str(iter1)\n",
    "gen_fn = network_model + '_' + fn_postfix\n",
    "c2file=\"test/critiquepracticalreason_00_kant_64kb.c2cb-3200\"\n",
    "seed_start_index = \"5000\"#\"1168\"\n",
    "generate_length = 2000\n",
    "\n",
    "outname=gen_fn+'_0'+\"-3200\"\n",
    "\n",
    "modelfn=\"out/\" + network_model + \"/model-\" + str(iter1) + \".h5\" \n",
    "\n",
    "import network_data as nd\n",
    "import os\n",
    "from subprocess import check_output, call\n",
    "from IPython.display import display, Markdown, Audio, Image\n",
    "home = os.environ.get('HOME')\n",
    "\n",
    "os.chdir(home + \"/store/c2gen\")\n",
    "if not force_run and os.path.isfile(home+'/store/c2gen/generated/'+outname+'.wav'):\n",
    "    print(\"File\", outname, \"already exists\")\n",
    "else:  \n",
    "    print(\"Starting generator - this could take some time\")\n",
    "    call([\"python3\", \"lstm_c2_generation.py\", network_model, \"--generate=\"+gen_fn, \"--generate-len=\"+str(generate_length), \"--seed_index=\"+seed_start_index, c2file, modelfn])\n",
    "    print(\"Generator complete\")  \n",
    "display(Audio(filename=home+\"/store/c2gen/generated/\"+outname+\".wav\"))  \n",
    "os.chdir(home+\"/store/c2gen/notebooks\") \n",
    "  \n",
    "nd.plot_gen_audio_waveform(outname) "
   ]
  },
  {
   "cell_type": "code",
   "execution_count": null,
   "metadata": {
    "collapsed": true
   },
   "outputs": [],
   "source": [
    "print(gen_fn)\n",
    "nd.plot_codec_params(network_model,fn_postfix, scale_up='orig', loc='generated')\n",
    "nd.plot_spec_params(network_model,fn_postfix, params='Voicing', loc='generated')\n",
    "nd.plot_spec_params(network_model,fn_postfix, params='Wo', loc='generated')\n",
    "nd.plot_spec_params(network_model,fn_postfix, params='E', loc='generated')\n",
    "nd.plot_spec_params(network_model,fn_postfix, params='LSPs', loc='generated')"
   ]
  }
 ],
 "metadata": {
  "kernelspec": {
   "display_name": "Python 3",
   "language": "python",
   "name": "python3"
  },
  "language_info": {
   "codemirror_mode": {
    "name": "ipython",
    "version": 3
   },
   "file_extension": ".py",
   "mimetype": "text/x-python",
   "name": "python",
   "nbconvert_exporter": "python",
   "pygments_lexer": "ipython3",
   "version": "3.6.1"
  }
 },
 "nbformat": 4,
 "nbformat_minor": 2
}
