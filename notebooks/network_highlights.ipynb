{
 "cells": [
  {
   "cell_type": "markdown",
   "metadata": {},
   "source": [
    "# Network Notes"
   ]
  },
  {
   "cell_type": "code",
   "execution_count": 1562,
   "metadata": {
    "scrolled": true
   },
   "outputs": [
    {
     "name": "stdout",
     "output_type": "stream",
     "text": [
      "Generated multiple frames in one action: (1, 20, 13) 1 \n",
      "Generated multiple frames in one action: (1, 20, 13) 1 \n",
      "Generated multiple frames in one action: (1, 20, 13) 1 \n",
      "Generated multiple frames in one action: (1, 20, 13) 1 \n",
      "Generated multiple frames in one action: (1, 20, 13) 1 \n",
      "Generated multiple frames in one action: (1, 20, 13) 1 \n",
      "Generated multiple frames in one action: (1, 20, 13) 1 \n",
      "Generated multiple frames in one action: (1, 20, 13) 1 \n",
      "Generated multiple frames in one action: (1, 20, 13) 1 \n",
      "wrote frames:  10 \n",
      "Training Iteration 11 \n",
      "using full set of frames \n",
      "\n",
      " 905/5987 [===>..........................] - ETA: 24s - loss: 0.9582 - model_2_loss_1: 6.3070 - model_2_loss_2: 0.9582'\n"
     ]
    }
   ],
   "source": [
    "# good 160 unit *3 network\n",
    "network_model = \"func-25-1-1\"\n",
    "iter1 = 56\n",
    "iter2 = 1490\n",
    "codec = 3200\n",
    "model_type = 'functional'\n",
    "\n",
    "output_fn_postfix1 = \"output_\" + str(0) + \"_\" + str(iter1)\n",
    "output_fn_postfix1_mid = \"output_\" + str(1) + \"_\" + str(iter1)\n",
    "\n",
    "output_fn_postfix2 = \"output_\" + str(0) + \"_\" + str(iter2)\n",
    "output_fn_postfix2_mid = \"output_\" + str(1) + \"_\" + str(iter2)\n",
    "\n",
    "\n",
    "from subprocess import check_output, call\n",
    "\n",
    "import os\n",
    "import json\n",
    "\n",
    "home = os.environ.get('HOME')\n",
    "if codec==3200:\n",
    "    codec_sub = '-3200'\n",
    "else:\n",
    "    codec_sub = ''\n",
    "\n",
    "os.chdir(home + \"/store/c2gen/notebooks\")\n",
    "\n",
    "\n",
    "cb = home + \"/store/c2gen/out/\"+network_model+\"/out-c2cb-\"+str(output_fn_postfix1)\n",
    "call([\"bash\", home + \"/store/c2gen/c2towav.sh\", cb ])\n",
    "cb = home + \"/store/c2gen/out/\"+network_model+\"/out-c2cb-\"+str(output_fn_postfix1_mid)\n",
    "call([\"bash\", home + \"/store/c2gen/c2towav.sh\", cb ])\n",
    "cb = home + \"/store/c2gen/out/\"+network_model+\"/out-c2cb-\"+str(iter2)\n",
    "call([\"bash\", home + \"/store/c2gen/c2towav.sh\", cb ])\n",
    "\n",
    "import network_data as nd\n",
    "from IPython.display import display, Markdown, Audio, Image\n",
    "nh = home + \"/store/c2gen/out/\"+network_model+\"/log\"\n",
    "    \n",
    "if os.path.isfile(nh):\n",
    "  with open(nh) as f:\n",
    "      res = f.readlines()\n",
    "      print(str.join(\"\",res[-12:]))\n",
    "\n",
    "  try:\n",
    "    res = check_output([\"tail\", '-n 1', home + \"/store/c2gen/nohup/\"+network_model+\".out\"])\n",
    "  except:\n",
    "    try:\n",
    "      res = check_output([\"tail\", '-n 1', home + \"/store/c2gen/nohup-\"+network_model+\".out\"])\n",
    "    except:\n",
    "      res = ''\n",
    "  if res != '':  \n",
    "    res = str(res).replace('\\\\n', \"\\n\")\n",
    "    res = str(res).replace('\\\\r', \"\\n\")\n",
    "    res = str(res).replace('\\\\x08', \"\")\n",
    "    res = res.split(\"\\n\")[-1]\n",
    "    print(res)\n",
    "\n"
   ]
  },
  {
   "cell_type": "code",
   "execution_count": 1563,
   "metadata": {
    "scrolled": true
   },
   "outputs": [
    {
     "name": "stdout",
     "output_type": "stream",
     "text": [
      "start_iteration :  10\n",
      "num_iterations :  1200\n",
      "fit_batch_size :  5\n",
      "learn_next_step :  False\n",
      "gen_every_nth :  10\n",
      "generate_num_outputs :  2\n",
      "save_model_every_nth :  10\n",
      "framelen :  13\n",
      "frame_seq_len :  20\n",
      "overlap_sequence :  0\n",
      "seed_seq_len :  20\n",
      "seq_step :  20\n",
      "test_data_fn :  ./test/critiquepracticalreason_00_kant_64kb.c2cb-3200\n",
      "frame_prop_orig_scale :  [1, 127, 31, 31, 31, 31, 31, 31, 31, 31, 31, 31, 31]\n",
      "frame_prop_loss_scale :  [1, 127, 31, 31, 31, 31, 31, 31, 31, 31, 31, 31, 31]\n",
      "stateful :  False\n",
      "shuffle :  False\n",
      "limit_frames :  0\n",
      "optimizer :  {'name': 'Nadam', 'params': {}}\n",
      "generate_len :  200\n",
      "model_filename :  out/func-25-1-1/model-10.h5\n",
      "frame_len_ms :  20\n"
     ]
    }
   ],
   "source": [
    "with open(home + \"/store/c2gen/out/\"+network_model+\"/config.json\") as f:\n",
    "    j = json.load(f)\n",
    "    for k,v in j.items():\n",
    "        print(k,\": \",v) \n"
   ]
  },
  {
   "cell_type": "code",
   "execution_count": 1564,
   "metadata": {
    "scrolled": false
   },
   "outputs": [
    {
     "data": {
      "text/markdown": [
       "# func-25-1-1 Notes\n",
       "\n",
       "2017-12-07 15:21:27\n",
       "\n",
       "Run with arguments ./test/critiquepracticalreason_00_kant_64kb.c2cb-3200 \n",
       "\n",
       "## Description\n",
       "\n",
       "Completely rework encoder decoder with LSTMs\n"
      ],
      "text/plain": [
       "<IPython.core.display.Markdown object>"
      ]
     },
     "metadata": {},
     "output_type": "display_data"
    }
   ],
   "source": [
    "try:\n",
    "  with open(home + \"/store/c2gen/out/\" + network_model + '/notes.md', 'r') as fh:\n",
    "    display(Markdown(fh.read()))\n",
    "    \n",
    "except:\n",
    "    print(\"no markdown file found\")"
   ]
  },
  {
   "cell_type": "code",
   "execution_count": 1565,
   "metadata": {
    "collapsed": true
   },
   "outputs": [],
   "source": [
    "if model_type != 'functional':\n",
    "  nd.model_config(network_model)"
   ]
  },
  {
   "cell_type": "code",
   "execution_count": 1566,
   "metadata": {
    "scrolled": true
   },
   "outputs": [
    {
     "data": {
      "image/png": "[encoded data removed]",
      "text/plain": [
       "<matplotlib.figure.Figure at 0x7fba8364f7f0>"
      ]
     },
     "metadata": {},
     "output_type": "display_data"
    }
   ],
   "source": [
    "nd.plot_training_loss(network_model, 'mean abs') "
   ]
  },
  {
   "cell_type": "code",
   "execution_count": null,
   "metadata": {},
   "outputs": [
    {
     "name": "stdout",
     "output_type": "stream",
     "text": [
      "epoch,loss,model_2_loss_1,model_2_loss_2\n",
      "\n",
      "0,2.91053988543,6.55939549586,2.91053988543\n",
      "0,2.38287274145,6.44910136983,2.38287274145\n",
      "0,1.60299547804,5.99839859095,1.60299547804\n",
      "0,1.35677014925,6.08367954089,1.35677014925\n",
      "0,1.13343358177,6.15780762752,1.13343358177\n",
      "0,1.04839456064,6.16693170643,1.04839456064\n",
      "0,1.00316051685,6.1682612105,1.00316051685\n",
      "0,0.971583378853,6.16873525092,0.971583378853\n",
      "0,0.95033857463,6.16899817763,0.95033857463\n",
      "0,0.933297932972,6.16818928927,0.933297932972\n",
      "\n",
      "10\n"
     ]
    }
   ],
   "source": [
    "with open(home + \"/store/c2gen/out/\"+network_model+\"/training.log\") as f:\n",
    "    rl = f.readlines()\n",
    "    print(str.join(\"\",rl[0:1]))\n",
    "    print(str.join(\"\",rl[-10:]))\n",
    "    \n",
    "\n",
    "with open(home + \"/store/c2gen/out/\"+network_model+\"/gen_counter\") as f:\n",
    "    latest_iter = (int(f.readlines()[0]))\n",
    "    print(latest_iter)\n",
    "    "
   ]
  },
  {
   "cell_type": "code",
   "execution_count": null,
   "metadata": {
    "scrolled": false
   },
   "outputs": [],
   "source": [
    "try:\n",
    "  print(\"Latest Iteration:\", latest_iter)\n",
    "  \n",
    "  output_fn_postfix = \"output_\" + str(0) + \"_\" + str(latest_iter)\n",
    "  output_fn_postfix_mid = \"output_\" + str(1) + \"_\" + str(latest_iter)\n",
    "  \n",
    "  chart_postfix = output_fn_postfix\n",
    "\n",
    "  nd.plot_codec_params(network_model,chart_postfix, scale_up='orig')\n",
    "  nd.plot_spec_params(network_model,chart_postfix, params='Voicing')\n",
    "  nd.plot_spec_params(network_model,chart_postfix, params='Wo')\n",
    "  nd.plot_spec_params(network_model,chart_postfix, params='E')\n",
    "  nd.plot_spec_params(network_model,chart_postfix, params='LSPs')\n",
    "except FileNotFoundError:\n",
    "    print(\"File not found\")"
   ]
  },
  {
   "cell_type": "code",
   "execution_count": null,
   "metadata": {
    "scrolled": false
   },
   "outputs": [],
   "source": [
    "cb = home + \"/store/c2gen/out/\"+network_model+\"/out-c2cb-\"+str(output_fn_postfix)\n",
    "call([\"bash\", home + \"/store/c2gen/c2towav.sh\", cb ])\n",
    "\n",
    "try:\n",
    "  nd.plot_audio_waveform(network_model, output_fn_postfix)\n",
    "  display(Audio(filename=home + \"/store/c2gen/out/\"+network_model+\"/out-c2cb-\"+str(output_fn_postfix)+codec_sub+\".wav\"))\n",
    "except FileNotFoundError:\n",
    "  print(\"file not found\")\n",
    "print()"
   ]
  },
  {
   "cell_type": "code",
   "execution_count": null,
   "metadata": {},
   "outputs": [],
   "source": [
    "cb = home + \"/store/c2gen/out/\"+network_model+\"/out-c2cb-\"+str(output_fn_postfix_mid)\n",
    "call([\"bash\", home + \"/store/c2gen/c2towav.sh\", cb ])\n",
    "\n",
    "try:\n",
    "  nd.plot_audio_waveform(network_model, output_fn_postfix_mid)\n",
    "  display(Audio(filename=home + \"/store/c2gen/out/\"+network_model+\"/out-c2cb-\"+str(output_fn_postfix_mid)+codec_sub+\".wav\"))\n",
    "except FileNotFoundError:\n",
    "  print(\"file not found\")\n",
    "print()"
   ]
  },
  {
   "cell_type": "markdown",
   "metadata": {},
   "source": [
    "Early Iterations\n",
    "==="
   ]
  },
  {
   "cell_type": "code",
   "execution_count": null,
   "metadata": {
    "scrolled": true
   },
   "outputs": [],
   "source": [
    "print(output_fn_postfix1)\n",
    "nd.plot_codec_params(network_model,output_fn_postfix1, scale_up='orig')\n",
    "nd.plot_spec_params(network_model,output_fn_postfix1, params='Voicing')\n",
    "nd.plot_spec_params(network_model,output_fn_postfix1, params='Wo')\n",
    "nd.plot_spec_params(network_model,output_fn_postfix1, params='E')\n",
    "nd.plot_spec_params(network_model,output_fn_postfix1, params='LSPs')"
   ]
  },
  {
   "cell_type": "code",
   "execution_count": null,
   "metadata": {
    "scrolled": true
   },
   "outputs": [],
   "source": [
    "nd.plot_audio_waveform(network_model, output_fn_postfix1)"
   ]
  },
  {
   "cell_type": "markdown",
   "metadata": {},
   "source": [
    "Listen to the WAV file"
   ]
  },
  {
   "cell_type": "code",
   "execution_count": null,
   "metadata": {
    "scrolled": false
   },
   "outputs": [],
   "source": [
    "display(Audio(filename=home + \"/store/c2gen/out/\"+network_model+\"/out-c2cb-\"+str(output_fn_postfix1)+codec_sub+\".wav\"))"
   ]
  },
  {
   "cell_type": "code",
   "execution_count": null,
   "metadata": {},
   "outputs": [],
   "source": [
    "nd.plot_audio_waveform(network_model, output_fn_postfix1_mid)"
   ]
  },
  {
   "cell_type": "code",
   "execution_count": null,
   "metadata": {},
   "outputs": [],
   "source": [
    "display(Audio(filename=home + \"/store/c2gen/out/\"+network_model+\"/out-c2cb-\"+str(output_fn_postfix1_mid)+codec_sub+\".wav\"))"
   ]
  },
  {
   "cell_type": "markdown",
   "metadata": {},
   "source": [
    "Later Iterations\n",
    "==="
   ]
  },
  {
   "cell_type": "code",
   "execution_count": null,
   "metadata": {},
   "outputs": [],
   "source": [
    "nd.plot_codec_params(network_model,output_fn_postfix2, scale_up=True)\n",
    "nd.plot_spec_params(network_model,output_fn_postfix2, params='Voicing')\n",
    "nd.plot_spec_params(network_model,output_fn_postfix2, params='Wo')\n",
    "nd.plot_spec_params(network_model,output_fn_postfix2, params='E')\n",
    "nd.plot_spec_params(network_model,output_fn_postfix2, params='LSPs')"
   ]
  },
  {
   "cell_type": "code",
   "execution_count": null,
   "metadata": {
    "collapsed": true,
    "scrolled": true
   },
   "outputs": [],
   "source": [
    "nd.plot_audio_waveform(network_model, output_fn_postfix2)"
   ]
  },
  {
   "cell_type": "markdown",
   "metadata": {},
   "source": [
    "Listen to the WAV file"
   ]
  },
  {
   "cell_type": "code",
   "execution_count": null,
   "metadata": {
    "collapsed": true
   },
   "outputs": [],
   "source": [
    "display(Audio(filename=home + \"/store/c2gen/out/\"+network_model+\"/out-c2cb-\"+str(output_fn_postfix2)+codec_sub+\".wav\"))"
   ]
  },
  {
   "cell_type": "raw",
   "metadata": {},
   "source": []
  },
  {
   "cell_type": "markdown",
   "metadata": {
    "collapsed": true
   },
   "source": [
    "## "
   ]
  }
 ],
 "metadata": {
  "kernelspec": {
   "display_name": "Python 3",
   "language": "python",
   "name": "python3"
  },
  "language_info": {
   "codemirror_mode": {
    "name": "ipython",
    "version": 3
   },
   "file_extension": ".py",
   "mimetype": "text/x-python",
   "name": "python",
   "nbconvert_exporter": "python",
   "pygments_lexer": "ipython3",
   "version": "3.6.1"
  }
 },
 "nbformat": 4,
 "nbformat_minor": 2
}
