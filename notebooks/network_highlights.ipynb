{
 "cells": [
  {
   "cell_type": "markdown",
   "metadata": {},
   "source": [
    "# Network Notes"
   ]
  },
  {
   "cell_type": "code",
   "execution_count": 1015,
   "metadata": {
    "scrolled": true
   },
   "outputs": [
    {
     "name": "stdout",
     "output_type": "stream",
     "text": [
      "creating new model \n",
      "Defining model \n",
      "encoder_trainable: True \n",
      "decoder_trainable: True \n",
      "generator_trainable: True \n",
      "generate_len: None \n",
      "Training Iteration 0 \n",
      "Compiling model \n",
      "using full set of frames \n",
      "saving config \n",
      "Training Iteration 1 \n",
      "using full set of frames \n",
      "\n",
      " 9200/49440 [====>.........................] - ETA: 122s - loss: 3.1138 - model_1_loss_1: 5.0747 - model_1_loss_2: 1.1530'\n"
     ]
    }
   ],
   "source": [
    "# good 160 unit *3 network\n",
    "network_model = \"func-23-2-3\"\n",
    "iter1 = 100\n",
    "iter2 = 1490\n",
    "codec = 3200\n",
    "model_type = 'functional'\n",
    "\n",
    "output_fn_postfix1 = \"output_\" + str(0) + \"_\" + str(iter1)\n",
    "output_fn_postfix1_mid = \"output_\" + str(1) + \"_\" + str(iter1)\n",
    "\n",
    "output_fn_postfix2 = \"output_\" + str(0) + \"_\" + str(iter2)\n",
    "output_fn_postfix2_mid = \"output_\" + str(1) + \"_\" + str(iter2)\n",
    "'''\n",
    "network_model = \"tale-prog-large3dense5\"\n",
    "iter1 = 5\n",
    "iter2 = 50\n",
    "\n",
    "network_model = \"tale-prog-large3dense6\"\n",
    "iter1 = 5\n",
    "iter2 = 30\n",
    "\n",
    "network_model = \"tale-prog-large3alt1\"\n",
    "iter1 = 5 #good\n",
    "iter2 = 110\n",
    "\n",
    "network_model = \"tale-prog-quick2\"\n",
    "iter1 = 55\n",
    "iter2 = 340\n",
    "'''\n",
    "# full set of 320 unit *3 network\n",
    "#network_model = \"tale-prog-stateful8l\"\n",
    "#iter1 = 500\n",
    "#iter2 = 505\n",
    "\n",
    "#network_model = \"tale-prog-lg123alt\"\n",
    "#iter1 = 5\n",
    "#iter2 = 55\n",
    "\n",
    "from subprocess import check_output, call\n",
    "\n",
    "import os\n",
    "import json\n",
    "\n",
    "home = os.environ.get('HOME')\n",
    "if codec==3200:\n",
    "    codec_sub = '-3200'\n",
    "else:\n",
    "    codec_sub = ''\n",
    "\n",
    "os.chdir(home + \"/store/c2gen/notebooks\")\n",
    "\n",
    "\n",
    "cb = home + \"/store/c2gen/out/\"+network_model+\"/out-c2cb-\"+str(output_fn_postfix1)\n",
    "call([\"bash\", home + \"/store/c2gen/c2towav.sh\", cb ])\n",
    "cb = home + \"/store/c2gen/out/\"+network_model+\"/out-c2cb-\"+str(output_fn_postfix1_mid)\n",
    "call([\"bash\", home + \"/store/c2gen/c2towav.sh\", cb ])\n",
    "cb = home + \"/store/c2gen/out/\"+network_model+\"/out-c2cb-\"+str(iter2)\n",
    "call([\"bash\", home + \"/store/c2gen/c2towav.sh\", cb ])\n",
    "\n",
    "import network_data as nd\n",
    "from IPython.display import display, Markdown, Audio, Image\n",
    "nh = home + \"/store/c2gen/out/\"+network_model+\"/log\"\n",
    "    \n",
    "if os.path.isfile(nh):\n",
    "  with open(nh) as f:\n",
    "      res = f.readlines()\n",
    "      print(str.join(\"\",res[-12:]))\n",
    "\n",
    "  try:\n",
    "    res = check_output([\"tail\", '-n 1', home + \"/store/c2gen/nohup/\"+network_model+\".out\"])\n",
    "  except:\n",
    "    try:\n",
    "      res = check_output([\"tail\", '-n 1', home + \"/store/c2gen/nohup-\"+network_model+\".out\"])\n",
    "    except:\n",
    "      res = ''\n",
    "  if res != '':  \n",
    "    res = str(res).replace('\\\\n', \"\\n\")\n",
    "    res = str(res).replace('\\\\r', \"\\n\")\n",
    "    res = str(res).replace('\\\\x08', \"\")\n",
    "    res = res.split(\"\\n\")[-1]\n",
    "    print(res)\n",
    "\n"
   ]
  },
  {
   "cell_type": "code",
   "execution_count": 1016,
   "metadata": {
    "scrolled": true
   },
   "outputs": [
    {
     "name": "stdout",
     "output_type": "stream",
     "text": [
      "start_iteration :  0\n",
      "num_iterations :  1200\n",
      "fit_batch_size :  100\n",
      "learn_next_step :  False\n",
      "gen_every_nth :  10\n",
      "generate_num_outputs :  2\n",
      "save_model_every_nth :  10\n",
      "framelen :  13\n",
      "frame_seq_len :  100\n",
      "overlap_sequence :  1\n",
      "seed_seq_len :  100\n",
      "seq_step :  98\n",
      "test_data_fn :  ./test/criticalpracticalreason.c2-3200\n",
      "frame_prop_orig_scale :  [1, 127, 31, 31, 31, 31, 31, 31, 31, 31, 31, 31, 31]\n",
      "frame_prop_loss_scale :  [1, 127, 31, 31, 31, 31, 31, 31, 31, 31, 31, 31, 31]\n",
      "stateful :  False\n",
      "shuffle :  False\n",
      "limit_frames :  0\n",
      "optimizer :  {'name': 'Nadam', 'params': {}}\n",
      "generate_len :  200\n",
      "model_filename :  out/func-23-2-3/model-0.h5\n",
      "frame_len_ms :  20\n"
     ]
    }
   ],
   "source": [
    "with open(home + \"/store/c2gen/out/\"+network_model+\"/config.json\") as f:\n",
    "    j = json.load(f)\n",
    "    for k,v in j.items():\n",
    "        print(k,\": \",v) \n"
   ]
  },
  {
   "cell_type": "code",
   "execution_count": 1017,
   "metadata": {
    "scrolled": false
   },
   "outputs": [
    {
     "data": {
      "text/markdown": [
       "# func-23-2-3 Notes\n",
       "\n",
       "2017-12-05 23:13:22\n",
       "\n",
       "Run with arguments ./test/criticalpracticalreason.c2-3200 none\n",
       "\n",
       "## Description\n",
       "\n",
       "Resized the final dense layer in the generator to match the input to the decoder.\n",
       "Moved decoder into its own method\n"
      ],
      "text/plain": [
       "<IPython.core.display.Markdown object>"
      ]
     },
     "metadata": {},
     "output_type": "display_data"
    }
   ],
   "source": [
    "try:\n",
    "  with open(home + \"/store/c2gen/out/\" + network_model + '/notes.md', 'r') as fh:\n",
    "    display(Markdown(fh.read()))\n",
    "    \n",
    "except:\n",
    "    print(\"no markdown file found\")"
   ]
  },
  {
   "cell_type": "code",
   "execution_count": 1018,
   "metadata": {},
   "outputs": [],
   "source": [
    "if model_type != 'functional':\n",
    "  nd.model_config(network_model)"
   ]
  },
  {
   "cell_type": "code",
   "execution_count": 1019,
   "metadata": {
    "scrolled": true
   },
   "outputs": [
    {
     "data": {
      "image/png": "[encoded data removed]",
      "text/plain": [
       "<matplotlib.figure.Figure at 0x7fba837ff940>"
      ]
     },
     "metadata": {},
     "output_type": "display_data"
    }
   ],
   "source": [
    "nd.plot_training_loss(network_model, 'mean abs') "
   ]
  },
  {
   "cell_type": "code",
   "execution_count": 1020,
   "metadata": {},
   "outputs": [
    {
     "name": "stdout",
     "output_type": "stream",
     "text": [
      "epoch,loss,model_1_loss_1,model_1_loss_2\n",
      "\n",
      "epoch,loss,model_1_loss_1,model_1_loss_2\n",
      "0,4.35070124556,6.00786988796,2.69353260316\n",
      "\n",
      "0\n"
     ]
    }
   ],
   "source": [
    "with open(home + \"/store/c2gen/out/\"+network_model+\"/training.log\") as f:\n",
    "    rl = f.readlines()\n",
    "    print(str.join(\"\",rl[0:1]))\n",
    "    print(str.join(\"\",rl[-10:]))\n",
    "    \n",
    "\n",
    "with open(home + \"/store/c2gen/out/\"+network_model+\"/iteration_counter\") as f:\n",
    "    latest_iter = (int(f.readlines()[0]))\n",
    "    print(latest_iter)\n",
    "    "
   ]
  },
  {
   "cell_type": "code",
   "execution_count": 1021,
   "metadata": {
    "scrolled": false
   },
   "outputs": [
    {
     "name": "stdout",
     "output_type": "stream",
     "text": [
      "Latest Iteration: 0\n",
      "File not found\n"
     ]
    }
   ],
   "source": [
    "try:\n",
    "  print(\"Latest Iteration:\", latest_iter)\n",
    "  \n",
    "  output_fn_postfix = \"output_\" + str(0) + \"_\" + str(latest_iter)\n",
    "  output_fn_postfix_mid = \"output_\" + str(1) + \"_\" + str(latest_iter)\n",
    "  \n",
    "  chart_postfix = output_fn_postfix\n",
    "\n",
    "  nd.plot_codec_params(network_model,chart_postfix, scale_up='orig')\n",
    "  nd.plot_spec_params(network_model,chart_postfix, params='Voicing')\n",
    "  nd.plot_spec_params(network_model,chart_postfix, params='Wo')\n",
    "  nd.plot_spec_params(network_model,chart_postfix, params='E')\n",
    "  nd.plot_spec_params(network_model,chart_postfix, params='LSPs')\n",
    "except FileNotFoundError:\n",
    "    print(\"File not found\")"
   ]
  },
  {
   "cell_type": "code",
   "execution_count": 1022,
   "metadata": {
    "scrolled": false
   },
   "outputs": [
    {
     "name": "stdout",
     "output_type": "stream",
     "text": [
      "file not found\n",
      "\n"
     ]
    }
   ],
   "source": [
    "cb = home + \"/store/c2gen/out/\"+network_model+\"/out-c2cb-\"+str(output_fn_postfix)\n",
    "call([\"bash\", home + \"/store/c2gen/c2towav.sh\", cb ])\n",
    "\n",
    "try:\n",
    "  nd.plot_audio_waveform(network_model, output_fn_postfix)\n",
    "  display(Audio(filename=home + \"/store/c2gen/out/\"+network_model+\"/out-c2cb-\"+str(output_fn_postfix)+codec_sub+\".wav\"))\n",
    "except FileNotFoundError:\n",
    "  print(\"file not found\")\n",
    "print()"
   ]
  },
  {
   "cell_type": "code",
   "execution_count": 1023,
   "metadata": {},
   "outputs": [
    {
     "name": "stdout",
     "output_type": "stream",
     "text": [
      "file not found\n",
      "\n"
     ]
    }
   ],
   "source": [
    "cb = home + \"/store/c2gen/out/\"+network_model+\"/out-c2cb-\"+str(output_fn_postfix_mid)\n",
    "call([\"bash\", home + \"/store/c2gen/c2towav.sh\", cb ])\n",
    "\n",
    "try:\n",
    "  nd.plot_audio_waveform(network_model, output_fn_postfix_mid)\n",
    "  display(Audio(filename=home + \"/store/c2gen/out/\"+network_model+\"/out-c2cb-\"+str(output_fn_postfix_mid)+codec_sub+\".wav\"))\n",
    "except FileNotFoundError:\n",
    "  print(\"file not found\")\n",
    "print()"
   ]
  },
  {
   "cell_type": "markdown",
   "metadata": {},
   "source": [
    "Early Iterations\n",
    "==="
   ]
  },
  {
   "cell_type": "code",
   "execution_count": 1024,
   "metadata": {
    "scrolled": true
   },
   "outputs": [
    {
     "name": "stdout",
     "output_type": "stream",
     "text": [
      "output_0_100\n"
     ]
    },
    {
     "ename": "FileNotFoundError",
     "evalue": "[Errno 2] No such file or directory: '/home/phil/store/c2gen/out/func-23-2-3/out-c2cb-output_1_100'",
     "output_type": "error",
     "traceback": [
      "\u001b[0;31m---------------------------------------------------------------------------\u001b[0m",
      "\u001b[0;31mFileNotFoundError\u001b[0m                         Traceback (most recent call last)",
      "\u001b[0;32m<ipython-input-1024-7e1304e44ac2>\u001b[0m in \u001b[0;36m<module>\u001b[0;34m()\u001b[0m\n\u001b[1;32m      1\u001b[0m \u001b[0mprint\u001b[0m\u001b[0;34m(\u001b[0m\u001b[0moutput_fn_postfix1\u001b[0m\u001b[0;34m)\u001b[0m\u001b[0;34m\u001b[0m\u001b[0m\n\u001b[0;32m----> 2\u001b[0;31m \u001b[0mnd\u001b[0m\u001b[0;34m.\u001b[0m\u001b[0mplot_codec_params\u001b[0m\u001b[0;34m(\u001b[0m\u001b[0mnetwork_model\u001b[0m\u001b[0;34m,\u001b[0m\u001b[0moutput_fn_postfix1_mid\u001b[0m\u001b[0;34m,\u001b[0m \u001b[0mscale_up\u001b[0m\u001b[0;34m=\u001b[0m\u001b[0;34m'orig'\u001b[0m\u001b[0;34m)\u001b[0m\u001b[0;34m\u001b[0m\u001b[0m\n\u001b[0m\u001b[1;32m      3\u001b[0m \u001b[0mnd\u001b[0m\u001b[0;34m.\u001b[0m\u001b[0mplot_spec_params\u001b[0m\u001b[0;34m(\u001b[0m\u001b[0mnetwork_model\u001b[0m\u001b[0;34m,\u001b[0m\u001b[0moutput_fn_postfix1_mid\u001b[0m\u001b[0;34m,\u001b[0m \u001b[0mparams\u001b[0m\u001b[0;34m=\u001b[0m\u001b[0;34m'Voicing'\u001b[0m\u001b[0;34m)\u001b[0m\u001b[0;34m\u001b[0m\u001b[0m\n\u001b[1;32m      4\u001b[0m \u001b[0mnd\u001b[0m\u001b[0;34m.\u001b[0m\u001b[0mplot_spec_params\u001b[0m\u001b[0;34m(\u001b[0m\u001b[0mnetwork_model\u001b[0m\u001b[0;34m,\u001b[0m\u001b[0moutput_fn_postfix1_mid\u001b[0m\u001b[0;34m,\u001b[0m \u001b[0mparams\u001b[0m\u001b[0;34m=\u001b[0m\u001b[0;34m'Wo'\u001b[0m\u001b[0;34m)\u001b[0m\u001b[0;34m\u001b[0m\u001b[0m\n\u001b[1;32m      5\u001b[0m \u001b[0mnd\u001b[0m\u001b[0;34m.\u001b[0m\u001b[0mplot_spec_params\u001b[0m\u001b[0;34m(\u001b[0m\u001b[0mnetwork_model\u001b[0m\u001b[0;34m,\u001b[0m\u001b[0moutput_fn_postfix1_mid\u001b[0m\u001b[0;34m,\u001b[0m \u001b[0mparams\u001b[0m\u001b[0;34m=\u001b[0m\u001b[0;34m'E'\u001b[0m\u001b[0;34m)\u001b[0m\u001b[0;34m\u001b[0m\u001b[0m\n",
      "\u001b[0;32m/home/phil/personal_projects/babble-rnn/notebooks/network_data.py\u001b[0m in \u001b[0;36mplot_codec_params\u001b[0;34m(network_tag, iteration, scale_up, loc)\u001b[0m\n\u001b[1;32m     54\u001b[0m \u001b[0;34m\u001b[0m\u001b[0m\n\u001b[1;32m     55\u001b[0m   \u001b[0minfilename\u001b[0m \u001b[0;34m=\u001b[0m \u001b[0mhome\u001b[0m \u001b[0;34m+\u001b[0m \u001b[0;34m\"/store/c2gen/\"\u001b[0m\u001b[0;34m+\u001b[0m\u001b[0mloc\u001b[0m\u001b[0;34m+\u001b[0m\u001b[0;34m\"/\"\u001b[0m \u001b[0;34m+\u001b[0m \u001b[0mnetwork_tag\u001b[0m \u001b[0;34m+\u001b[0m \u001b[0mfn\u001b[0m\u001b[0;34m\u001b[0m\u001b[0m\n\u001b[0;32m---> 56\u001b[0;31m   \u001b[0mindata\u001b[0m \u001b[0;34m=\u001b[0m \u001b[0mnp\u001b[0m\u001b[0;34m.\u001b[0m\u001b[0mfromfile\u001b[0m\u001b[0;34m(\u001b[0m\u001b[0minfilename\u001b[0m\u001b[0;34m,\u001b[0m \u001b[0mdtype\u001b[0m\u001b[0;34m=\u001b[0m\u001b[0mnp\u001b[0m\u001b[0;34m.\u001b[0m\u001b[0muint8\u001b[0m\u001b[0;34m)\u001b[0m\u001b[0;34m\u001b[0m\u001b[0m\n\u001b[0m\u001b[1;32m     57\u001b[0m \u001b[0;34m\u001b[0m\u001b[0m\n\u001b[1;32m     58\u001b[0m   \u001b[0;32mif\u001b[0m \u001b[0mcodec1300\u001b[0m\u001b[0;34m:\u001b[0m\u001b[0;34m\u001b[0m\u001b[0m\n",
      "\u001b[0;31mFileNotFoundError\u001b[0m: [Errno 2] No such file or directory: '/home/phil/store/c2gen/out/func-23-2-3/out-c2cb-output_1_100'"
     ]
    }
   ],
   "source": [
    "print(output_fn_postfix1)\n",
    "nd.plot_codec_params(network_model,output_fn_postfix1_mid, scale_up='orig')\n",
    "nd.plot_spec_params(network_model,output_fn_postfix1_mid, params='Voicing')\n",
    "nd.plot_spec_params(network_model,output_fn_postfix1_mid, params='Wo')\n",
    "nd.plot_spec_params(network_model,output_fn_postfix1_mid, params='E')\n",
    "nd.plot_spec_params(network_model,output_fn_postfix1_mid, params='LSPs')"
   ]
  },
  {
   "cell_type": "code",
   "execution_count": null,
   "metadata": {
    "scrolled": true
   },
   "outputs": [],
   "source": [
    "nd.plot_audio_waveform(network_model, output_fn_postfix1)"
   ]
  },
  {
   "cell_type": "markdown",
   "metadata": {},
   "source": [
    "Listen to the WAV file"
   ]
  },
  {
   "cell_type": "code",
   "execution_count": null,
   "metadata": {
    "scrolled": false
   },
   "outputs": [],
   "source": [
    "display(Audio(filename=home + \"/store/c2gen/out/\"+network_model+\"/out-c2cb-\"+str(output_fn_postfix1)+codec_sub+\".wav\"))"
   ]
  },
  {
   "cell_type": "code",
   "execution_count": null,
   "metadata": {},
   "outputs": [],
   "source": [
    "nd.plot_audio_waveform(network_model, output_fn_postfix1_mid)"
   ]
  },
  {
   "cell_type": "code",
   "execution_count": null,
   "metadata": {},
   "outputs": [],
   "source": [
    "display(Audio(filename=home + \"/store/c2gen/out/\"+network_model+\"/out-c2cb-\"+str(output_fn_postfix1_mid)+codec_sub+\".wav\"))"
   ]
  },
  {
   "cell_type": "markdown",
   "metadata": {},
   "source": [
    "Later Iterations\n",
    "==="
   ]
  },
  {
   "cell_type": "code",
   "execution_count": null,
   "metadata": {},
   "outputs": [],
   "source": [
    "nd.plot_codec_params(network_model,output_fn_postfix2, scale_up=True)\n",
    "nd.plot_spec_params(network_model,output_fn_postfix2, params='Voicing')\n",
    "nd.plot_spec_params(network_model,output_fn_postfix2, params='Wo')\n",
    "nd.plot_spec_params(network_model,output_fn_postfix2, params='E')\n",
    "nd.plot_spec_params(network_model,output_fn_postfix2, params='LSPs')"
   ]
  },
  {
   "cell_type": "code",
   "execution_count": null,
   "metadata": {
    "scrolled": true
   },
   "outputs": [],
   "source": [
    "nd.plot_audio_waveform(network_model, output_fn_postfix2)"
   ]
  },
  {
   "cell_type": "markdown",
   "metadata": {},
   "source": [
    "Listen to the WAV file"
   ]
  },
  {
   "cell_type": "code",
   "execution_count": null,
   "metadata": {},
   "outputs": [],
   "source": [
    "display(Audio(filename=home + \"/store/c2gen/out/\"+network_model+\"/out-c2cb-\"+str(output_fn_postfix2)+codec_sub+\".wav\"))"
   ]
  },
  {
   "cell_type": "raw",
   "metadata": {},
   "source": []
  },
  {
   "cell_type": "markdown",
   "metadata": {
    "collapsed": true
   },
   "source": [
    "## "
   ]
  }
 ],
 "metadata": {
  "kernelspec": {
   "display_name": "Python 3",
   "language": "python",
   "name": "python3"
  },
  "language_info": {
   "codemirror_mode": {
    "name": "ipython",
    "version": 3
   },
   "file_extension": ".py",
   "mimetype": "text/x-python",
   "name": "python",
   "nbconvert_exporter": "python",
   "pygments_lexer": "ipython3",
   "version": "3.6.1"
  }
 },
 "nbformat": 4,
 "nbformat_minor": 2
}
