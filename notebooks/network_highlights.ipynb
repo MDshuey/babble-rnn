{
 "cells": [
  {
   "cell_type": "markdown",
   "metadata": {},
   "source": [
    "# Network Notes"
   ]
  },
  {
   "cell_type": "code",
   "execution_count": 48,
   "metadata": {
    "scrolled": true
   },
   "outputs": [
    {
     "name": "stdout",
     "output_type": "stream",
     "text": [
      "Generating samples \n",
      "saving generated sample output to:  out/conv-v3-1-1/out-c2cb-140 \n",
      "generating sample data of length:  200 \n",
      "seed sequence for generation starts at frame index:  0  (approx.  0 : 0 ) \n",
      "wrote frames:  200 \n",
      "saving config \n",
      "Training Iteration 141 \n",
      "using full set of frames \n",
      "Training Iteration 142 \n",
      "using full set of frames \n",
      "Training Iteration 143 \n",
      "using full set of frames \n",
      "\n",
      "16180/24225 [===================>..........] - ETA: 88s - loss: 2.6518'\n"
     ]
    }
   ],
   "source": [
    "# good 160 unit *3 network\n",
    "network_model = \"conv-v3-1-1\"\n",
    "iter1 = 1910\n",
    "iter2 = 1980\n",
    "codec = 3200\n",
    "'''\n",
    "network_model = \"tale-prog-large3dense5\"\n",
    "iter1 = 5\n",
    "iter2 = 50\n",
    "\n",
    "network_model = \"tale-prog-large3dense6\"\n",
    "iter1 = 5\n",
    "iter2 = 30\n",
    "\n",
    "network_model = \"tale-prog-large3alt1\"\n",
    "iter1 = 5 #good\n",
    "iter2 = 110\n",
    "\n",
    "network_model = \"tale-prog-quick2\"\n",
    "iter1 = 55\n",
    "iter2 = 340\n",
    "'''\n",
    "# full set of 320 unit *3 network\n",
    "#network_model = \"tale-prog-stateful8l\"\n",
    "#iter1 = 500\n",
    "#iter2 = 505\n",
    "\n",
    "#network_model = \"tale-prog-lg123alt\"\n",
    "#iter1 = 5\n",
    "#iter2 = 55\n",
    "\n",
    "from subprocess import check_output, call\n",
    "\n",
    "import os\n",
    "import json\n",
    "\n",
    "home = os.environ.get('HOME')\n",
    "if codec==3200:\n",
    "    codec_sub = '-3200'\n",
    "else:\n",
    "    codec_sub = ''\n",
    "\n",
    "os.chdir(home + \"/store/c2gen/notebooks\")\n",
    "\n",
    "\n",
    "cb = home + \"/store/c2gen/out/\"+network_model+\"/out-c2cb-\"+str(iter1)\n",
    "call([\"bash\", home + \"/store/c2gen/c2towav.sh\", cb ])\n",
    "cb = home + \"/store/c2gen/out/\"+network_model+\"/out-c2cb-\"+str(iter2)\n",
    "call([\"bash\", home + \"/store/c2gen/c2towav.sh\", cb ])\n",
    "\n",
    "import network_data as nd\n",
    "from IPython.display import display, Markdown, Audio, Image\n",
    "nh = home + \"/store/c2gen/out/\"+network_model+\"/log\"\n",
    "    \n",
    "if os.path.isfile(nh):\n",
    "  with open(nh) as f:\n",
    "      res = f.readlines()\n",
    "      print(str.join(\"\",res[-12:]))\n",
    "\n",
    "  try:\n",
    "    res = check_output([\"tail\", '-n 1', home + \"/store/c2gen/nohup/\"+network_model+\".out\"])\n",
    "  except:\n",
    "    try:\n",
    "      res = check_output([\"tail\", '-n 1', home + \"/store/c2gen/nohup-\"+network_model+\".out\"])\n",
    "    except:\n",
    "      res = ''\n",
    "  if res != '':  \n",
    "    res = str(res).replace('\\\\n', \"\\n\")\n",
    "    res = str(res).replace('\\\\r', \"\\n\")\n",
    "    res = str(res).replace('\\\\x08', \"\")\n",
    "    res = res.split(\"\\n\")[-1]\n",
    "    print(res)\n",
    "\n"
   ]
  },
  {
   "cell_type": "code",
   "execution_count": 49,
   "metadata": {
    "scrolled": true
   },
   "outputs": [
    {
     "name": "stdout",
     "output_type": "stream",
     "text": [
      "frame_seq_len :  200\n",
      "fit_batch_size :  20\n",
      "gen_every_nth :  10\n",
      "framelen :  13\n",
      "learn_next_step :  True\n",
      "model_filename :  out/conv-v3-1-1/model-140.h5\n",
      "limit_frames :  0\n",
      "seed_seq_len :  200\n",
      "shuffle :  False\n",
      "stateful :  False\n",
      "generate_len :  200\n",
      "num_iterations :  1200\n",
      "seq_step :  200\n",
      "save_model_every_nth :  10\n",
      "optimizer :  {'params': {}, 'name': 'Nadam'}\n",
      "start_iteration :  140\n",
      "frame_prop_loss_scale :  [1, 127, 31, 31, 31, 31, 31, 31, 31, 31, 31, 31, 31]\n",
      "test_data_fn :  test/criticalpracticalreason.c2-3200\n"
     ]
    }
   ],
   "source": [
    "with open(home + \"/store/c2gen/out/\"+network_model+\"/config.json\") as f:\n",
    "    j = json.load(f)\n",
    "    for k,v in j.items():\n",
    "        print(k,\": \",v) \n"
   ]
  },
  {
   "cell_type": "code",
   "execution_count": 50,
   "metadata": {
    "scrolled": false
   },
   "outputs": [
    {
     "name": "stdout",
     "output_type": "stream",
     "text": [
      "no markdown file found\n"
     ]
    }
   ],
   "source": [
    "try:\n",
    "  with open('./networks/' + network_model + '_notes.md', 'r') as fh:\n",
    "    display(Markdown(fh.read()))\n",
    "    \n",
    "except:\n",
    "    print(\"no markdown file found\")"
   ]
  },
  {
   "cell_type": "code",
   "execution_count": 51,
   "metadata": {},
   "outputs": [
    {
     "name": "stdout",
     "output_type": "stream",
     "text": [
      "reshape_1 : Reshape\n",
      "trainable?  True\n",
      " units\n",
      " activation\n",
      " dropout\n",
      "stateful \n",
      "\n",
      "conv2d_1 : Conv2D\n",
      "trainable?  True\n",
      " units\n",
      "relu activation\n",
      " dropout\n",
      "stateful \n",
      "\n",
      "conv2d_2 : Conv2D\n",
      "trainable?  True\n",
      " units\n",
      "relu activation\n",
      " dropout\n",
      "stateful \n",
      "\n",
      "permute_1 : Permute\n",
      "trainable?  True\n",
      " units\n",
      " activation\n",
      " dropout\n",
      "stateful \n",
      "\n",
      "reshape_2 : Reshape\n",
      "trainable?  True\n",
      " units\n",
      " activation\n",
      " dropout\n",
      "stateful \n",
      "\n",
      "lstm_1 : LSTM\n",
      "trainable?  True\n",
      "160 units\n",
      "tanh activation\n",
      "0.0 dropout\n",
      "stateful False\n",
      "\n",
      "dense_1 : Dense\n",
      "trainable?  True\n",
      "13 units\n",
      "relu activation\n",
      " dropout\n",
      "stateful \n",
      "\n"
     ]
    }
   ],
   "source": [
    "nd.model_config(network_model)"
   ]
  },
  {
   "cell_type": "code",
   "execution_count": 52,
   "metadata": {
    "scrolled": true
   },
   "outputs": [
    {
     "data": {
      "image/png": "[encoded data removed]",
      "text/plain": [
       "<matplotlib.figure.Figure at 0x7f40b450bac8>"
      ]
     },
     "metadata": {},
     "output_type": "display_data"
    }
   ],
   "source": [
    "nd.plot_training_loss(network_model)"
   ]
  },
  {
   "cell_type": "code",
   "execution_count": 53,
   "metadata": {},
   "outputs": [
    {
     "name": "stdout",
     "output_type": "stream",
     "text": [
      "0,2.58804825028\n",
      "0,2.58468482826\n",
      "0,2.76866096678\n",
      "0,3.44354360619\n",
      "0,3.16393567414\n",
      "0,2.93735394345\n",
      "0,2.82891652238\n",
      "0,2.77073179337\n",
      "0,2.72203860641\n",
      "0,2.6856676807\n",
      "\n",
      "140\n"
     ]
    },
    {
     "data": {
      "text/plain": [
       "2"
      ]
     },
     "execution_count": 53,
     "metadata": {},
     "output_type": "execute_result"
    }
   ],
   "source": [
    "with open(home + \"/store/c2gen/out/\"+network_model+\"/training.log\") as f:\n",
    "    print(str.join(\"\",f.readlines()[-10:]))\n",
    "\n",
    "with open(home + \"/store/c2gen/out/\"+network_model+\"/iteration_counter\") as f:\n",
    "    latest_iter = (int(f.readlines()[0]))\n",
    "    print(latest_iter)\n",
    "    \n",
    "cb = home + \"/store/c2gen/out/\"+network_model+\"/out-c2cb-\"+str(latest_iter)\n",
    "call([\"bash\", home + \"/store/c2gen/c2towav.sh\", cb ])\n"
   ]
  },
  {
   "cell_type": "code",
   "execution_count": 54,
   "metadata": {
    "scrolled": false
   },
   "outputs": [
    {
     "name": "stdout",
     "output_type": "stream",
     "text": [
      "Latest Iteration: 140\n",
      "3200 rate codec\n",
      "\n"
     ]
    },
    {
     "data": {
      "image/png": "[encoded data removed]",
      "text/plain": [
       "<matplotlib.figure.Figure at 0x7f40b467a6a0>"
      ]
     },
     "metadata": {},
     "output_type": "display_data"
    }
   ],
   "source": [
    "try:\n",
    "  print(\"Latest Iteration:\", latest_iter)\n",
    "  nd.plot_codec_params(network_model,latest_iter, scale_up='orig')\n",
    "except FileNotFoundError:\n",
    "    print(\"File not found\")"
   ]
  },
  {
   "cell_type": "code",
   "execution_count": 55,
   "metadata": {
    "scrolled": true
   },
   "outputs": [
    {
     "name": "stdout",
     "output_type": "stream",
     "text": [
      "140\n",
      "/home/phil/store/c2gen/out/conv-v3-1-1/out-c2cb-140-3200.wav\n",
      "file not found\n",
      "\n"
     ]
    }
   ],
   "source": [
    "print(latest_iter)\n",
    "print(home + \"/store/c2gen/out/\"+network_model+\"/out-c2cb-\"+str(latest_iter)+codec_sub+\".wav\")\n",
    "try:\n",
    "  nd.plot_audio_waveform(network_model, latest_iter)\n",
    "  display(Audio(filename=home + \"/store/c2gen/out/\"+network_model+\"/out-c2cb-\"+str(latest_iter)+codec_sub+\".wav\"))\n",
    "except FileNotFoundError:\n",
    "  print(\"file not found\")\n",
    "print()"
   ]
  },
  {
   "cell_type": "markdown",
   "metadata": {},
   "source": [
    "Early Iterations\n",
    "==="
   ]
  },
  {
   "cell_type": "code",
   "execution_count": 56,
   "metadata": {
    "scrolled": true
   },
   "outputs": [
    {
     "ename": "FileNotFoundError",
     "evalue": "[Errno 2] No such file or directory: '/home/phil/store/c2gen/out/conv-v3-1-1/out-c2cb-1910'",
     "output_type": "error",
     "traceback": [
      "\u001b[0;31m---------------------------------------------------------------------------\u001b[0m",
      "\u001b[0;31mFileNotFoundError\u001b[0m                         Traceback (most recent call last)",
      "\u001b[0;32m<ipython-input-56-ce6f8e814498>\u001b[0m in \u001b[0;36m<module>\u001b[0;34m()\u001b[0m\n\u001b[0;32m----> 1\u001b[0;31m \u001b[0mnd\u001b[0m\u001b[0;34m.\u001b[0m\u001b[0mplot_codec_params\u001b[0m\u001b[0;34m(\u001b[0m\u001b[0mnetwork_model\u001b[0m\u001b[0;34m,\u001b[0m\u001b[0miter1\u001b[0m\u001b[0;34m,\u001b[0m \u001b[0mscale_up\u001b[0m\u001b[0;34m=\u001b[0m\u001b[0;34m'orig'\u001b[0m\u001b[0;34m)\u001b[0m\u001b[0;34m\u001b[0m\u001b[0m\n\u001b[0m\u001b[1;32m      2\u001b[0m \u001b[0mnd\u001b[0m\u001b[0;34m.\u001b[0m\u001b[0mplot_spec_params\u001b[0m\u001b[0;34m(\u001b[0m\u001b[0mnetwork_model\u001b[0m\u001b[0;34m,\u001b[0m\u001b[0miter1\u001b[0m\u001b[0;34m,\u001b[0m \u001b[0mparams\u001b[0m\u001b[0;34m=\u001b[0m\u001b[0;34m'Voicing'\u001b[0m\u001b[0;34m)\u001b[0m\u001b[0;34m\u001b[0m\u001b[0m\n\u001b[1;32m      3\u001b[0m \u001b[0mnd\u001b[0m\u001b[0;34m.\u001b[0m\u001b[0mplot_spec_params\u001b[0m\u001b[0;34m(\u001b[0m\u001b[0mnetwork_model\u001b[0m\u001b[0;34m,\u001b[0m\u001b[0miter1\u001b[0m\u001b[0;34m,\u001b[0m \u001b[0mparams\u001b[0m\u001b[0;34m=\u001b[0m\u001b[0;34m'Wo'\u001b[0m\u001b[0;34m)\u001b[0m\u001b[0;34m\u001b[0m\u001b[0m\n\u001b[1;32m      4\u001b[0m \u001b[0mnd\u001b[0m\u001b[0;34m.\u001b[0m\u001b[0mplot_spec_params\u001b[0m\u001b[0;34m(\u001b[0m\u001b[0mnetwork_model\u001b[0m\u001b[0;34m,\u001b[0m\u001b[0miter1\u001b[0m\u001b[0;34m,\u001b[0m \u001b[0mparams\u001b[0m\u001b[0;34m=\u001b[0m\u001b[0;34m'E'\u001b[0m\u001b[0;34m)\u001b[0m\u001b[0;34m\u001b[0m\u001b[0m\n\u001b[1;32m      5\u001b[0m \u001b[0mnd\u001b[0m\u001b[0;34m.\u001b[0m\u001b[0mplot_spec_params\u001b[0m\u001b[0;34m(\u001b[0m\u001b[0mnetwork_model\u001b[0m\u001b[0;34m,\u001b[0m\u001b[0miter1\u001b[0m\u001b[0;34m,\u001b[0m \u001b[0mparams\u001b[0m\u001b[0;34m=\u001b[0m\u001b[0;34m'LSPs'\u001b[0m\u001b[0;34m)\u001b[0m\u001b[0;34m\u001b[0m\u001b[0m\n",
      "\u001b[0;32m~/personal_projects/babble-rnn/notebooks/network_data.py\u001b[0m in \u001b[0;36mplot_codec_params\u001b[0;34m(network_tag, iteration, scale_up)\u001b[0m\n\u001b[1;32m     47\u001b[0m   \u001b[0miteration\u001b[0m \u001b[0;34m=\u001b[0m \u001b[0mstr\u001b[0m\u001b[0;34m(\u001b[0m\u001b[0miteration\u001b[0m\u001b[0;34m)\u001b[0m\u001b[0;34m\u001b[0m\u001b[0m\n\u001b[1;32m     48\u001b[0m   \u001b[0minfilename\u001b[0m \u001b[0;34m=\u001b[0m \u001b[0mhome\u001b[0m \u001b[0;34m+\u001b[0m \u001b[0;34m\"/store/c2gen/out/\"\u001b[0m \u001b[0;34m+\u001b[0m \u001b[0mnetwork_tag\u001b[0m \u001b[0;34m+\u001b[0m \u001b[0;34m\"/out-c2cb-\"\u001b[0m \u001b[0;34m+\u001b[0m \u001b[0miteration\u001b[0m\u001b[0;34m\u001b[0m\u001b[0m\n\u001b[0;32m---> 49\u001b[0;31m   \u001b[0mindata\u001b[0m \u001b[0;34m=\u001b[0m \u001b[0mnp\u001b[0m\u001b[0;34m.\u001b[0m\u001b[0mfromfile\u001b[0m\u001b[0;34m(\u001b[0m\u001b[0minfilename\u001b[0m\u001b[0;34m,\u001b[0m \u001b[0mdtype\u001b[0m\u001b[0;34m=\u001b[0m\u001b[0mnp\u001b[0m\u001b[0;34m.\u001b[0m\u001b[0muint8\u001b[0m\u001b[0;34m)\u001b[0m\u001b[0;34m\u001b[0m\u001b[0m\n\u001b[0m\u001b[1;32m     50\u001b[0m \u001b[0;34m\u001b[0m\u001b[0m\n\u001b[1;32m     51\u001b[0m   \u001b[0;32mif\u001b[0m \u001b[0mcodec1300\u001b[0m\u001b[0;34m:\u001b[0m\u001b[0;34m\u001b[0m\u001b[0m\n",
      "\u001b[0;31mFileNotFoundError\u001b[0m: [Errno 2] No such file or directory: '/home/phil/store/c2gen/out/conv-v3-1-1/out-c2cb-1910'"
     ]
    }
   ],
   "source": [
    "nd.plot_codec_params(network_model,iter1, scale_up='orig')\n",
    "nd.plot_spec_params(network_model,iter1, params='Voicing')\n",
    "nd.plot_spec_params(network_model,iter1, params='Wo')\n",
    "nd.plot_spec_params(network_model,iter1, params='E')\n",
    "nd.plot_spec_params(network_model,iter1, params='LSPs')"
   ]
  },
  {
   "cell_type": "code",
   "execution_count": null,
   "metadata": {
    "collapsed": true,
    "scrolled": false
   },
   "outputs": [],
   "source": [
    "nd.plot_audio_waveform(network_model, iter1)"
   ]
  },
  {
   "cell_type": "markdown",
   "metadata": {},
   "source": [
    "Listen to the WAV file"
   ]
  },
  {
   "cell_type": "code",
   "execution_count": null,
   "metadata": {
    "collapsed": true,
    "scrolled": false
   },
   "outputs": [],
   "source": [
    "display(Audio(filename=home + \"/store/c2gen/out/\"+network_model+\"/out-c2cb-\"+str(iter1)+codec_sub+\".wav\"))"
   ]
  },
  {
   "cell_type": "markdown",
   "metadata": {},
   "source": [
    "Later Iterations\n",
    "==="
   ]
  },
  {
   "cell_type": "code",
   "execution_count": null,
   "metadata": {
    "collapsed": true
   },
   "outputs": [],
   "source": [
    "nd.plot_codec_params(network_model,iter2, scale_up=True)\n",
    "nd.plot_spec_params(network_model,iter2, params='Voicing')\n",
    "nd.plot_spec_params(network_model,iter2, params='Wo')\n",
    "nd.plot_spec_params(network_model,iter2, params='E')\n",
    "nd.plot_spec_params(network_model,iter2, params='LSPs')"
   ]
  },
  {
   "cell_type": "code",
   "execution_count": null,
   "metadata": {
    "collapsed": true,
    "scrolled": true
   },
   "outputs": [],
   "source": [
    "nd.plot_audio_waveform(network_model, iter2)"
   ]
  },
  {
   "cell_type": "markdown",
   "metadata": {},
   "source": [
    "Listen to the WAV file"
   ]
  },
  {
   "cell_type": "code",
   "execution_count": null,
   "metadata": {
    "collapsed": true
   },
   "outputs": [],
   "source": [
    "display(Audio(filename=home + \"/store/c2gen/out/\"+network_model+\"/out-c2cb-\"+str(iter2)+codec_sub+\".wav\"))"
   ]
  },
  {
   "cell_type": "code",
   "execution_count": null,
   "metadata": {
    "collapsed": true
   },
   "outputs": [],
   "source": []
  }
 ],
 "metadata": {
  "kernelspec": {
   "display_name": "Python 3",
   "language": "python",
   "name": "python3"
  },
  "language_info": {
   "codemirror_mode": {
    "name": "ipython",
    "version": 3
   },
   "file_extension": ".py",
   "mimetype": "text/x-python",
   "name": "python",
   "nbconvert_exporter": "python",
   "pygments_lexer": "ipython3",
   "version": "3.5.2"
  }
 },
 "nbformat": 4,
 "nbformat_minor": 2
}
