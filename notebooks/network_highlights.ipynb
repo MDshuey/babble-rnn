{
 "cells": [
  {
   "cell_type": "markdown",
   "metadata": {},
   "source": [
    "# Network Notes"
   ]
  },
  {
   "cell_type": "code",
   "execution_count": 1710,
   "metadata": {
    "scrolled": true
   },
   "outputs": [
    {
     "name": "stdout",
     "output_type": "stream",
     "text": [
      "shuffle: False \n",
      "limit_frames: 0 \n",
      "optimizer: {'name': 'Nadam', 'params': {}} \n",
      "generate_len: 200 \n",
      "model_filename:  \n",
      "frame_len_ms: 20 \n",
      "saving config \n",
      "scanning testdata into frames and frame sequences \n",
      "actual number of frames: 4845288 \n",
      "number of frame sequences: 48451 \n",
      "creating new model \n",
      "Defining model \n",
      "\n",
      "b''\n"
     ]
    }
   ],
   "source": [
    "# good 160 unit *3 network\n",
    "network_model = \"func-21-5-3\"\n",
    "iter1 = 360\n",
    "iter2 = 1490\n",
    "codec = 3200\n",
    "model_type = 'functional'\n",
    "'''\n",
    "network_model = \"tale-prog-large3dense5\"\n",
    "iter1 = 5\n",
    "iter2 = 50\n",
    "\n",
    "network_model = \"tale-prog-large3dense6\"\n",
    "iter1 = 5\n",
    "iter2 = 30\n",
    "\n",
    "network_model = \"tale-prog-large3alt1\"\n",
    "iter1 = 5 #good\n",
    "iter2 = 110\n",
    "\n",
    "network_model = \"tale-prog-quick2\"\n",
    "iter1 = 55\n",
    "iter2 = 340\n",
    "'''\n",
    "# full set of 320 unit *3 network\n",
    "#network_model = \"tale-prog-stateful8l\"\n",
    "#iter1 = 500\n",
    "#iter2 = 505\n",
    "\n",
    "#network_model = \"tale-prog-lg123alt\"\n",
    "#iter1 = 5\n",
    "#iter2 = 55\n",
    "\n",
    "from subprocess import check_output, call\n",
    "\n",
    "import os\n",
    "import json\n",
    "\n",
    "home = os.environ.get('HOME')\n",
    "if codec==3200:\n",
    "    codec_sub = '-3200'\n",
    "else:\n",
    "    codec_sub = ''\n",
    "\n",
    "os.chdir(home + \"/store/c2gen/notebooks\")\n",
    "\n",
    "\n",
    "cb = home + \"/store/c2gen/out/\"+network_model+\"/out-c2cb-\"+str(iter1)\n",
    "call([\"bash\", home + \"/store/c2gen/c2towav.sh\", cb ])\n",
    "cb = home + \"/store/c2gen/out/\"+network_model+\"/out-c2cb-\"+str(iter2)\n",
    "call([\"bash\", home + \"/store/c2gen/c2towav.sh\", cb ])\n",
    "\n",
    "import network_data as nd\n",
    "from IPython.display import display, Markdown, Audio, Image\n",
    "nh = home + \"/store/c2gen/out/\"+network_model+\"/log\"\n",
    "    \n",
    "if os.path.isfile(nh):\n",
    "  with open(nh) as f:\n",
    "      res = f.readlines()\n",
    "      print(str.join(\"\",res[-12:]))\n",
    "\n",
    "  try:\n",
    "    res = check_output([\"tail\", '-n 1', home + \"/store/c2gen/nohup/\"+network_model+\".out\"])\n",
    "  except:\n",
    "    try:\n",
    "      res = check_output([\"tail\", '-n 1', home + \"/store/c2gen/nohup-\"+network_model+\".out\"])\n",
    "    except:\n",
    "      res = ''\n",
    "  if res != '':  \n",
    "    res = str(res).replace('\\\\n', \"\\n\")\n",
    "    res = str(res).replace('\\\\r', \"\\n\")\n",
    "    res = str(res).replace('\\\\x08', \"\")\n",
    "    res = res.split(\"\\n\")[-1]\n",
    "    print(res)\n",
    "\n"
   ]
  },
  {
   "cell_type": "code",
   "execution_count": 1711,
   "metadata": {
    "scrolled": true
   },
   "outputs": [
    {
     "name": "stdout",
     "output_type": "stream",
     "text": [
      "start_iteration :  0\n",
      "num_iterations :  1200\n",
      "fit_batch_size :  100\n",
      "learn_next_step :  True\n",
      "gen_every_nth :  10\n",
      "save_model_every_nth :  10\n",
      "framelen :  13\n",
      "frame_seq_len :  100\n",
      "seed_seq_len :  100\n",
      "seq_step :  100\n",
      "test_data_fn :  ./test/criticalpracticalreason.c2-3200\n",
      "frame_prop_orig_scale :  [1, 127, 31, 31, 31, 31, 31, 31, 31, 31, 31, 31, 31]\n",
      "frame_prop_loss_scale :  [1000.0, 1000.0, 1000.0, 700.0, 600.0, 500.0, 400.0, 300.0, 200.0, 100.0, 60.0, 31.0, 16.0]\n",
      "stateful :  False\n",
      "shuffle :  False\n",
      "limit_frames :  0\n",
      "optimizer :  {'name': 'Nadam', 'params': {}}\n",
      "generate_len :  200\n",
      "model_filename :  \n",
      "frame_len_ms :  20\n"
     ]
    }
   ],
   "source": [
    "with open(home + \"/store/c2gen/out/\"+network_model+\"/config.json\") as f:\n",
    "    j = json.load(f)\n",
    "    for k,v in j.items():\n",
    "        print(k,\": \",v) \n"
   ]
  },
  {
   "cell_type": "code",
   "execution_count": 1712,
   "metadata": {
    "scrolled": false
   },
   "outputs": [
    {
     "data": {
      "text/markdown": [
       "# func-21-5-3 Notes\n",
       "\n",
       "2017-11-29 07:52:54\n",
       "\n",
       "Run with arguments --load-weights=out/func-21-5-1 ./test/criticalpracticalreason.c2-3200\n",
       "\n",
       "## Description\n",
       "\n",
       "Try long corpus with weights from short corpus, since there was a failure training directly\n"
      ],
      "text/plain": [
       "<IPython.core.display.Markdown object>"
      ]
     },
     "metadata": {},
     "output_type": "display_data"
    }
   ],
   "source": [
    "try:\n",
    "  with open(home + \"/store/c2gen/out/\" + network_model + '/notes.md', 'r') as fh:\n",
    "    display(Markdown(fh.read()))\n",
    "    \n",
    "except:\n",
    "    print(\"no markdown file found\")"
   ]
  },
  {
   "cell_type": "code",
   "execution_count": 1713,
   "metadata": {},
   "outputs": [],
   "source": [
    "if model_type != 'functional':\n",
    "  nd.model_config(network_model)"
   ]
  },
  {
   "cell_type": "code",
   "execution_count": 1714,
   "metadata": {
    "scrolled": true
   },
   "outputs": [
    {
     "ename": "EmptyDataError",
     "evalue": "No columns to parse from file",
     "output_type": "error",
     "traceback": [
      "\u001b[0;31m---------------------------------------------------------------------------\u001b[0m",
      "\u001b[0;31mEmptyDataError\u001b[0m                            Traceback (most recent call last)",
      "\u001b[0;32m<ipython-input-1714-229f0d359db7>\u001b[0m in \u001b[0;36m<module>\u001b[0;34m()\u001b[0m\n\u001b[0;32m----> 1\u001b[0;31m \u001b[0mnd\u001b[0m\u001b[0;34m.\u001b[0m\u001b[0mplot_training_loss\u001b[0m\u001b[0;34m(\u001b[0m\u001b[0mnetwork_model\u001b[0m\u001b[0;34m,\u001b[0m \u001b[0;34m'mean abs'\u001b[0m\u001b[0;34m)\u001b[0m\u001b[0;34m\u001b[0m\u001b[0m\n\u001b[0m",
      "\u001b[0;32m/home/phil/personal_projects/babble-rnn/notebooks/network_data.py\u001b[0m in \u001b[0;36mplot_training_loss\u001b[0;34m(network_tag, ln)\u001b[0m\n\u001b[1;32m     30\u001b[0m \u001b[0;34m\u001b[0m\u001b[0m\n\u001b[1;32m     31\u001b[0m \u001b[0;32mdef\u001b[0m \u001b[0mplot_training_loss\u001b[0m\u001b[0;34m(\u001b[0m\u001b[0mnetwork_tag\u001b[0m\u001b[0;34m,\u001b[0m \u001b[0mln\u001b[0m\u001b[0;34m)\u001b[0m\u001b[0;34m:\u001b[0m\u001b[0;34m\u001b[0m\u001b[0m\n\u001b[0;32m---> 32\u001b[0;31m   \u001b[0mdataframe\u001b[0m \u001b[0;34m=\u001b[0m \u001b[0mpandas\u001b[0m\u001b[0;34m.\u001b[0m\u001b[0mio\u001b[0m\u001b[0;34m.\u001b[0m\u001b[0mparsers\u001b[0m\u001b[0;34m.\u001b[0m\u001b[0mread_csv\u001b[0m\u001b[0;34m(\u001b[0m\u001b[0mhome\u001b[0m \u001b[0;34m+\u001b[0m \u001b[0;34m\"/store/c2gen/out/\"\u001b[0m \u001b[0;34m+\u001b[0m \u001b[0mnetwork_tag\u001b[0m \u001b[0;34m+\u001b[0m \u001b[0;34m\"/training.log\"\u001b[0m\u001b[0;34m)\u001b[0m\u001b[0;34m\u001b[0m\u001b[0m\n\u001b[0m\u001b[1;32m     33\u001b[0m   \u001b[0mdata\u001b[0m \u001b[0;34m=\u001b[0m \u001b[0mdataframe\u001b[0m\u001b[0;34m.\u001b[0m\u001b[0mas_matrix\u001b[0m\u001b[0;34m(\u001b[0m\u001b[0;32mNone\u001b[0m\u001b[0;34m)\u001b[0m\u001b[0;34m\u001b[0m\u001b[0m\n\u001b[1;32m     34\u001b[0m   \u001b[0mplt\u001b[0m\u001b[0;34m.\u001b[0m\u001b[0mplot\u001b[0m\u001b[0;34m(\u001b[0m\u001b[0mdata\u001b[0m\u001b[0;34m)\u001b[0m\u001b[0;34m\u001b[0m\u001b[0m\n",
      "\u001b[0;32m/home/phil/anaconda3/lib/python3.6/site-packages/pandas/io/parsers.py\u001b[0m in \u001b[0;36mparser_f\u001b[0;34m(filepath_or_buffer, sep, delimiter, header, names, index_col, usecols, squeeze, prefix, mangle_dupe_cols, dtype, engine, converters, true_values, false_values, skipinitialspace, skiprows, nrows, na_values, keep_default_na, na_filter, verbose, skip_blank_lines, parse_dates, infer_datetime_format, keep_date_col, date_parser, dayfirst, iterator, chunksize, compression, thousands, decimal, lineterminator, quotechar, quoting, escapechar, comment, encoding, dialect, tupleize_cols, error_bad_lines, warn_bad_lines, skipfooter, skip_footer, doublequote, delim_whitespace, as_recarray, compact_ints, use_unsigned, low_memory, buffer_lines, memory_map, float_precision)\u001b[0m\n\u001b[1;32m    653\u001b[0m                     skip_blank_lines=skip_blank_lines)\n\u001b[1;32m    654\u001b[0m \u001b[0;34m\u001b[0m\u001b[0m\n\u001b[0;32m--> 655\u001b[0;31m         \u001b[0;32mreturn\u001b[0m \u001b[0m_read\u001b[0m\u001b[0;34m(\u001b[0m\u001b[0mfilepath_or_buffer\u001b[0m\u001b[0;34m,\u001b[0m \u001b[0mkwds\u001b[0m\u001b[0;34m)\u001b[0m\u001b[0;34m\u001b[0m\u001b[0m\n\u001b[0m\u001b[1;32m    656\u001b[0m \u001b[0;34m\u001b[0m\u001b[0m\n\u001b[1;32m    657\u001b[0m     \u001b[0mparser_f\u001b[0m\u001b[0;34m.\u001b[0m\u001b[0m__name__\u001b[0m \u001b[0;34m=\u001b[0m \u001b[0mname\u001b[0m\u001b[0;34m\u001b[0m\u001b[0m\n",
      "\u001b[0;32m/home/phil/anaconda3/lib/python3.6/site-packages/pandas/io/parsers.py\u001b[0m in \u001b[0;36m_read\u001b[0;34m(filepath_or_buffer, kwds)\u001b[0m\n\u001b[1;32m    403\u001b[0m \u001b[0;34m\u001b[0m\u001b[0m\n\u001b[1;32m    404\u001b[0m     \u001b[0;31m# Create the parser.\u001b[0m\u001b[0;34m\u001b[0m\u001b[0;34m\u001b[0m\u001b[0m\n\u001b[0;32m--> 405\u001b[0;31m     \u001b[0mparser\u001b[0m \u001b[0;34m=\u001b[0m \u001b[0mTextFileReader\u001b[0m\u001b[0;34m(\u001b[0m\u001b[0mfilepath_or_buffer\u001b[0m\u001b[0;34m,\u001b[0m \u001b[0;34m**\u001b[0m\u001b[0mkwds\u001b[0m\u001b[0;34m)\u001b[0m\u001b[0;34m\u001b[0m\u001b[0m\n\u001b[0m\u001b[1;32m    406\u001b[0m \u001b[0;34m\u001b[0m\u001b[0m\n\u001b[1;32m    407\u001b[0m     \u001b[0;32mif\u001b[0m \u001b[0mchunksize\u001b[0m \u001b[0;32mor\u001b[0m \u001b[0miterator\u001b[0m\u001b[0;34m:\u001b[0m\u001b[0;34m\u001b[0m\u001b[0m\n",
      "\u001b[0;32m/home/phil/anaconda3/lib/python3.6/site-packages/pandas/io/parsers.py\u001b[0m in \u001b[0;36m__init__\u001b[0;34m(self, f, engine, **kwds)\u001b[0m\n\u001b[1;32m    760\u001b[0m             \u001b[0mself\u001b[0m\u001b[0;34m.\u001b[0m\u001b[0moptions\u001b[0m\u001b[0;34m[\u001b[0m\u001b[0;34m'has_index_names'\u001b[0m\u001b[0;34m]\u001b[0m \u001b[0;34m=\u001b[0m \u001b[0mkwds\u001b[0m\u001b[0;34m[\u001b[0m\u001b[0;34m'has_index_names'\u001b[0m\u001b[0;34m]\u001b[0m\u001b[0;34m\u001b[0m\u001b[0m\n\u001b[1;32m    761\u001b[0m \u001b[0;34m\u001b[0m\u001b[0m\n\u001b[0;32m--> 762\u001b[0;31m         \u001b[0mself\u001b[0m\u001b[0;34m.\u001b[0m\u001b[0m_make_engine\u001b[0m\u001b[0;34m(\u001b[0m\u001b[0mself\u001b[0m\u001b[0;34m.\u001b[0m\u001b[0mengine\u001b[0m\u001b[0;34m)\u001b[0m\u001b[0;34m\u001b[0m\u001b[0m\n\u001b[0m\u001b[1;32m    763\u001b[0m \u001b[0;34m\u001b[0m\u001b[0m\n\u001b[1;32m    764\u001b[0m     \u001b[0;32mdef\u001b[0m \u001b[0mclose\u001b[0m\u001b[0;34m(\u001b[0m\u001b[0mself\u001b[0m\u001b[0;34m)\u001b[0m\u001b[0;34m:\u001b[0m\u001b[0;34m\u001b[0m\u001b[0m\n",
      "\u001b[0;32m/home/phil/anaconda3/lib/python3.6/site-packages/pandas/io/parsers.py\u001b[0m in \u001b[0;36m_make_engine\u001b[0;34m(self, engine)\u001b[0m\n\u001b[1;32m    964\u001b[0m     \u001b[0;32mdef\u001b[0m \u001b[0m_make_engine\u001b[0m\u001b[0;34m(\u001b[0m\u001b[0mself\u001b[0m\u001b[0;34m,\u001b[0m \u001b[0mengine\u001b[0m\u001b[0;34m=\u001b[0m\u001b[0;34m'c'\u001b[0m\u001b[0;34m)\u001b[0m\u001b[0;34m:\u001b[0m\u001b[0;34m\u001b[0m\u001b[0m\n\u001b[1;32m    965\u001b[0m         \u001b[0;32mif\u001b[0m \u001b[0mengine\u001b[0m \u001b[0;34m==\u001b[0m \u001b[0;34m'c'\u001b[0m\u001b[0;34m:\u001b[0m\u001b[0;34m\u001b[0m\u001b[0m\n\u001b[0;32m--> 966\u001b[0;31m             \u001b[0mself\u001b[0m\u001b[0;34m.\u001b[0m\u001b[0m_engine\u001b[0m \u001b[0;34m=\u001b[0m \u001b[0mCParserWrapper\u001b[0m\u001b[0;34m(\u001b[0m\u001b[0mself\u001b[0m\u001b[0;34m.\u001b[0m\u001b[0mf\u001b[0m\u001b[0;34m,\u001b[0m \u001b[0;34m**\u001b[0m\u001b[0mself\u001b[0m\u001b[0;34m.\u001b[0m\u001b[0moptions\u001b[0m\u001b[0;34m)\u001b[0m\u001b[0;34m\u001b[0m\u001b[0m\n\u001b[0m\u001b[1;32m    967\u001b[0m         \u001b[0;32melse\u001b[0m\u001b[0;34m:\u001b[0m\u001b[0;34m\u001b[0m\u001b[0m\n\u001b[1;32m    968\u001b[0m             \u001b[0;32mif\u001b[0m \u001b[0mengine\u001b[0m \u001b[0;34m==\u001b[0m \u001b[0;34m'python'\u001b[0m\u001b[0;34m:\u001b[0m\u001b[0;34m\u001b[0m\u001b[0m\n",
      "\u001b[0;32m/home/phil/anaconda3/lib/python3.6/site-packages/pandas/io/parsers.py\u001b[0m in \u001b[0;36m__init__\u001b[0;34m(self, src, **kwds)\u001b[0m\n\u001b[1;32m   1580\u001b[0m         \u001b[0mkwds\u001b[0m\u001b[0;34m[\u001b[0m\u001b[0;34m'allow_leading_cols'\u001b[0m\u001b[0;34m]\u001b[0m \u001b[0;34m=\u001b[0m \u001b[0mself\u001b[0m\u001b[0;34m.\u001b[0m\u001b[0mindex_col\u001b[0m \u001b[0;32mis\u001b[0m \u001b[0;32mnot\u001b[0m \u001b[0;32mFalse\u001b[0m\u001b[0;34m\u001b[0m\u001b[0m\n\u001b[1;32m   1581\u001b[0m \u001b[0;34m\u001b[0m\u001b[0m\n\u001b[0;32m-> 1582\u001b[0;31m         \u001b[0mself\u001b[0m\u001b[0;34m.\u001b[0m\u001b[0m_reader\u001b[0m \u001b[0;34m=\u001b[0m \u001b[0mparsers\u001b[0m\u001b[0;34m.\u001b[0m\u001b[0mTextReader\u001b[0m\u001b[0;34m(\u001b[0m\u001b[0msrc\u001b[0m\u001b[0;34m,\u001b[0m \u001b[0;34m**\u001b[0m\u001b[0mkwds\u001b[0m\u001b[0;34m)\u001b[0m\u001b[0;34m\u001b[0m\u001b[0m\n\u001b[0m\u001b[1;32m   1583\u001b[0m \u001b[0;34m\u001b[0m\u001b[0m\n\u001b[1;32m   1584\u001b[0m         \u001b[0;31m# XXX\u001b[0m\u001b[0;34m\u001b[0m\u001b[0;34m\u001b[0m\u001b[0m\n",
      "\u001b[0;32mpandas/_libs/parsers.pyx\u001b[0m in \u001b[0;36mpandas._libs.parsers.TextReader.__cinit__ (pandas/_libs/parsers.c:6260)\u001b[0;34m()\u001b[0m\n",
      "\u001b[0;31mEmptyDataError\u001b[0m: No columns to parse from file"
     ]
    }
   ],
   "source": [
    "nd.plot_training_loss(network_model, 'mean abs') "
   ]
  },
  {
   "cell_type": "code",
   "execution_count": null,
   "metadata": {},
   "outputs": [],
   "source": [
    "with open(home + \"/store/c2gen/out/\"+network_model+\"/training.log\") as f:\n",
    "    print(str.join(\"\",f.readlines()[-10:]))\n",
    "\n",
    "with open(home + \"/store/c2gen/out/\"+network_model+\"/iteration_counter\") as f:\n",
    "    latest_iter = (int(f.readlines()[0]))\n",
    "    print(latest_iter)\n",
    "    "
   ]
  },
  {
   "cell_type": "code",
   "execution_count": null,
   "metadata": {
    "scrolled": false
   },
   "outputs": [],
   "source": [
    "try:\n",
    "  print(\"Latest Iteration:\", latest_iter)\n",
    "  nd.plot_codec_params(network_model,latest_iter, scale_up='orig')\n",
    "  nd.plot_spec_params(network_model,latest_iter, params='Voicing')\n",
    "  nd.plot_spec_params(network_model,latest_iter, params='Wo')\n",
    "  nd.plot_spec_params(network_model,latest_iter, params='E')\n",
    "  nd.plot_spec_params(network_model,latest_iter, params='LSPs')\n",
    "except FileNotFoundError:\n",
    "    print(\"File not found\")"
   ]
  },
  {
   "cell_type": "code",
   "execution_count": null,
   "metadata": {
    "scrolled": false
   },
   "outputs": [],
   "source": [
    "#print(latest_iter)\n",
    "#print(home + \"/store/c2gen/out/\"+network_model+\"/out-c2cb-\"+str(latest_iter)+codec_sub+\".wav\")\n",
    "cb = home + \"/store/c2gen/out/\"+network_model+\"/out-c2cb-\"+str(latest_iter)\n",
    "#print(home + \"/store/c2gen/c2towav.sh\", cb)\n",
    "call([\"bash\", home + \"/store/c2gen/c2towav.sh\", cb ])\n",
    "\n",
    "try:\n",
    "  nd.plot_audio_waveform(network_model, latest_iter)\n",
    "  display(Audio(filename=home + \"/store/c2gen/out/\"+network_model+\"/out-c2cb-\"+str(latest_iter)+codec_sub+\".wav\"))\n",
    "except FileNotFoundError:\n",
    "  print(\"file not found\")\n",
    "print()"
   ]
  },
  {
   "cell_type": "markdown",
   "metadata": {},
   "source": [
    "Early Iterations\n",
    "==="
   ]
  },
  {
   "cell_type": "code",
   "execution_count": null,
   "metadata": {
    "scrolled": true
   },
   "outputs": [],
   "source": [
    "nd.plot_codec_params(network_model,iter1, scale_up='orig')\n",
    "nd.plot_spec_params(network_model,iter1, params='Voicing')\n",
    "nd.plot_spec_params(network_model,iter1, params='Wo')\n",
    "nd.plot_spec_params(network_model,iter1, params='E')\n",
    "nd.plot_spec_params(network_model,iter1, params='LSPs')"
   ]
  },
  {
   "cell_type": "code",
   "execution_count": null,
   "metadata": {
    "scrolled": false
   },
   "outputs": [],
   "source": [
    "nd.plot_audio_waveform(network_model, iter1)"
   ]
  },
  {
   "cell_type": "markdown",
   "metadata": {},
   "source": [
    "Listen to the WAV file"
   ]
  },
  {
   "cell_type": "code",
   "execution_count": null,
   "metadata": {
    "scrolled": false
   },
   "outputs": [],
   "source": [
    "display(Audio(filename=home + \"/store/c2gen/out/\"+network_model+\"/out-c2cb-\"+str(iter1)+codec_sub+\".wav\"))"
   ]
  },
  {
   "cell_type": "markdown",
   "metadata": {},
   "source": [
    "Later Iterations\n",
    "==="
   ]
  },
  {
   "cell_type": "code",
   "execution_count": null,
   "metadata": {},
   "outputs": [],
   "source": [
    "nd.plot_codec_params(network_model,iter2, scale_up=True)\n",
    "nd.plot_spec_params(network_model,iter2, params='Voicing')\n",
    "nd.plot_spec_params(network_model,iter2, params='Wo')\n",
    "nd.plot_spec_params(network_model,iter2, params='E')\n",
    "nd.plot_spec_params(network_model,iter2, params='LSPs')"
   ]
  },
  {
   "cell_type": "code",
   "execution_count": null,
   "metadata": {
    "scrolled": true
   },
   "outputs": [],
   "source": [
    "nd.plot_audio_waveform(network_model, iter2)"
   ]
  },
  {
   "cell_type": "markdown",
   "metadata": {},
   "source": [
    "Listen to the WAV file"
   ]
  },
  {
   "cell_type": "code",
   "execution_count": null,
   "metadata": {},
   "outputs": [],
   "source": [
    "display(Audio(filename=home + \"/store/c2gen/out/\"+network_model+\"/out-c2cb-\"+str(iter2)+codec_sub+\".wav\"))"
   ]
  },
  {
   "cell_type": "raw",
   "metadata": {},
   "source": []
  },
  {
   "cell_type": "code",
   "execution_count": null,
   "metadata": {
    "collapsed": true
   },
   "outputs": [],
   "source": []
  }
 ],
 "metadata": {
  "kernelspec": {
   "display_name": "Python 3",
   "language": "python",
   "name": "python3"
  },
  "language_info": {
   "codemirror_mode": {
    "name": "ipython",
    "version": 3
   },
   "file_extension": ".py",
   "mimetype": "text/x-python",
   "name": "python",
   "nbconvert_exporter": "python",
   "pygments_lexer": "ipython3",
   "version": "3.6.1"
  }
 },
 "nbformat": 4,
 "nbformat_minor": 2
}
