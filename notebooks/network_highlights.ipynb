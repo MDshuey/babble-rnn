{
 "cells": [
  {
   "cell_type": "markdown",
   "metadata": {},
   "source": [
    "# Network Notes"
   ]
  },
  {
   "cell_type": "code",
   "execution_count": 2042,
   "metadata": {
    "scrolled": true
   },
   "outputs": [
    {
     "name": "stdout",
     "output_type": "stream",
     "text": [
      "wrote frames:  200 \n",
      "saving config \n",
      "Training Iteration 261 \n",
      "using full set of frames \n",
      "Training Iteration 262 \n",
      "using full set of frames \n",
      "Training Iteration 263 \n",
      "using full set of frames \n",
      "Training Iteration 264 \n",
      "using full set of frames \n",
      "Training Iteration 265 \n",
      "using full set of frames \n",
      "\n",
      "43200/48451 [=========================>....] - ETA: 15s - loss: 67.9299 - main_output_loss: 67.9299 - mid_output_loss: 226.4558'\n"
     ]
    }
   ],
   "source": [
    "# good 160 unit *3 network\n",
    "network_model = \"func-21-8-2\"\n",
    "iter1 = 50\n",
    "iter2 = 1490\n",
    "codec = 3200\n",
    "model_type = 'functional'\n",
    "'''\n",
    "network_model = \"tale-prog-large3dense5\"\n",
    "iter1 = 5\n",
    "iter2 = 50\n",
    "\n",
    "network_model = \"tale-prog-large3dense6\"\n",
    "iter1 = 5\n",
    "iter2 = 30\n",
    "\n",
    "network_model = \"tale-prog-large3alt1\"\n",
    "iter1 = 5 #good\n",
    "iter2 = 110\n",
    "\n",
    "network_model = \"tale-prog-quick2\"\n",
    "iter1 = 55\n",
    "iter2 = 340\n",
    "'''\n",
    "# full set of 320 unit *3 network\n",
    "#network_model = \"tale-prog-stateful8l\"\n",
    "#iter1 = 500\n",
    "#iter2 = 505\n",
    "\n",
    "#network_model = \"tale-prog-lg123alt\"\n",
    "#iter1 = 5\n",
    "#iter2 = 55\n",
    "\n",
    "from subprocess import check_output, call\n",
    "\n",
    "import os\n",
    "import json\n",
    "\n",
    "home = os.environ.get('HOME')\n",
    "if codec==3200:\n",
    "    codec_sub = '-3200'\n",
    "else:\n",
    "    codec_sub = ''\n",
    "\n",
    "os.chdir(home + \"/store/c2gen/notebooks\")\n",
    "\n",
    "\n",
    "cb = home + \"/store/c2gen/out/\"+network_model+\"/out-c2cb-\"+str(iter1)\n",
    "call([\"bash\", home + \"/store/c2gen/c2towav.sh\", cb ])\n",
    "cb = home + \"/store/c2gen/out/\"+network_model+\"/out-c2cb-\"+str(iter2)\n",
    "call([\"bash\", home + \"/store/c2gen/c2towav.sh\", cb ])\n",
    "\n",
    "import network_data as nd\n",
    "from IPython.display import display, Markdown, Audio, Image\n",
    "nh = home + \"/store/c2gen/out/\"+network_model+\"/log\"\n",
    "    \n",
    "if os.path.isfile(nh):\n",
    "  with open(nh) as f:\n",
    "      res = f.readlines()\n",
    "      print(str.join(\"\",res[-12:]))\n",
    "\n",
    "  try:\n",
    "    res = check_output([\"tail\", '-n 1', home + \"/store/c2gen/nohup/\"+network_model+\".out\"])\n",
    "  except:\n",
    "    try:\n",
    "      res = check_output([\"tail\", '-n 1', home + \"/store/c2gen/nohup-\"+network_model+\".out\"])\n",
    "    except:\n",
    "      res = ''\n",
    "  if res != '':  \n",
    "    res = str(res).replace('\\\\n', \"\\n\")\n",
    "    res = str(res).replace('\\\\r', \"\\n\")\n",
    "    res = str(res).replace('\\\\x08', \"\")\n",
    "    res = res.split(\"\\n\")[-1]\n",
    "    print(res)\n",
    "\n"
   ]
  },
  {
   "cell_type": "code",
   "execution_count": 2043,
   "metadata": {
    "scrolled": true
   },
   "outputs": [
    {
     "name": "stdout",
     "output_type": "stream",
     "text": [
      "start_iteration :  260\n",
      "num_iterations :  1200\n",
      "fit_batch_size :  100\n",
      "learn_next_step :  True\n",
      "gen_every_nth :  10\n",
      "save_model_every_nth :  10\n",
      "framelen :  13\n",
      "frame_seq_len :  100\n",
      "seed_seq_len :  100\n",
      "seq_step :  100\n",
      "test_data_fn :  ./test/criticalpracticalreason.c2-3200\n",
      "frame_prop_orig_scale :  [1, 127, 31, 31, 31, 31, 31, 31, 31, 31, 31, 31, 31]\n",
      "frame_prop_loss_scale :  [1000.0, 1000.0, 1000.0, 700.0, 600.0, 500.0, 400.0, 300.0, 200.0, 100.0, 60.0, 31.0, 16.0]\n",
      "stateful :  False\n",
      "shuffle :  False\n",
      "limit_frames :  0\n",
      "optimizer :  {'name': 'Nadam', 'params': {}}\n",
      "generate_len :  200\n",
      "model_filename :  out/func-21-8-2/model-260.h5\n",
      "frame_len_ms :  20\n"
     ]
    }
   ],
   "source": [
    "with open(home + \"/store/c2gen/out/\"+network_model+\"/config.json\") as f:\n",
    "    j = json.load(f)\n",
    "    for k,v in j.items():\n",
    "        print(k,\": \",v) \n"
   ]
  },
  {
   "cell_type": "code",
   "execution_count": 2044,
   "metadata": {
    "scrolled": false
   },
   "outputs": [
    {
     "data": {
      "text/markdown": [
       "# func-21-8-2 Notes\n",
       "\n",
       "2017-11-30 21:59:26\n",
       "\n",
       "Run with arguments ./test/criticalpracticalreason.c2-3200 none\n",
       "\n",
       "## Description\n",
       "\n",
       "Rerun with long corpus\n",
       "Good results on the last run!\n"
      ],
      "text/plain": [
       "<IPython.core.display.Markdown object>"
      ]
     },
     "metadata": {},
     "output_type": "display_data"
    }
   ],
   "source": [
    "try:\n",
    "  with open(home + \"/store/c2gen/out/\" + network_model + '/notes.md', 'r') as fh:\n",
    "    display(Markdown(fh.read()))\n",
    "    \n",
    "except:\n",
    "    print(\"no markdown file found\")"
   ]
  },
  {
   "cell_type": "code",
   "execution_count": 2045,
   "metadata": {},
   "outputs": [],
   "source": [
    "if model_type != 'functional':\n",
    "  nd.model_config(network_model)"
   ]
  },
  {
   "cell_type": "code",
   "execution_count": 2046,
   "metadata": {
    "scrolled": true
   },
   "outputs": [
    {
     "data": {
      "image/png": "[encoded data removed]",
      "text/plain": [
       "<matplotlib.figure.Figure at 0x7fba964993c8>"
      ]
     },
     "metadata": {},
     "output_type": "display_data"
    }
   ],
   "source": [
    "nd.plot_training_loss(network_model, 'mean abs') "
   ]
  },
  {
   "cell_type": "code",
   "execution_count": null,
   "metadata": {},
   "outputs": [
    {
     "name": "stdout",
     "output_type": "stream",
     "text": [
      "0,67.6717820966,67.6717820966,226.458046972\n",
      "0,67.6714772893,67.6714772893,226.458046972\n",
      "0,67.6704638809,67.6704638809,226.458046972\n",
      "0,67.672072343,67.672072343,226.458046972\n",
      "0,67.6713894518,67.6713894518,226.458046972\n",
      "0,67.6709881663,67.6709881663,226.458046972\n",
      "0,67.6705731422,67.6705731422,226.458046972\n",
      "0,67.67116547,67.67116547,226.458046972\n",
      "0,67.6746107758,67.6746107758,226.458046972\n",
      "0,67.6703145833,67.6703145833,226.458046972\n",
      "\n",
      "260\n"
     ]
    }
   ],
   "source": [
    "with open(home + \"/store/c2gen/out/\"+network_model+\"/training.log\") as f:\n",
    "    print(str.join(\"\",f.readlines()[-10:]))\n",
    "\n",
    "with open(home + \"/store/c2gen/out/\"+network_model+\"/iteration_counter\") as f:\n",
    "    latest_iter = (int(f.readlines()[0]))\n",
    "    print(latest_iter)\n",
    "    "
   ]
  },
  {
   "cell_type": "code",
   "execution_count": null,
   "metadata": {
    "scrolled": false
   },
   "outputs": [
    {
     "name": "stdout",
     "output_type": "stream",
     "text": [
      "Latest Iteration: 260\n",
      "3200 rate codec\n",
      "\n"
     ]
    },
    {
     "data": {
      "image/png": "[encoded data removed]",
      "text/plain": [
       "<matplotlib.figure.Figure at 0x7fba964dbc50>"
      ]
     },
     "metadata": {},
     "output_type": "display_data"
    }
   ],
   "source": [
    "try:\n",
    "  print(\"Latest Iteration:\", latest_iter)\n",
    "  nd.plot_codec_params(network_model,latest_iter, scale_up='orig')\n",
    "  nd.plot_spec_params(network_model,latest_iter, params='Voicing')\n",
    "  nd.plot_spec_params(network_model,latest_iter, params='Wo')\n",
    "  nd.plot_spec_params(network_model,latest_iter, params='E')\n",
    "  nd.plot_spec_params(network_model,latest_iter, params='LSPs')\n",
    "except FileNotFoundError:\n",
    "    print(\"File not found\")"
   ]
  },
  {
   "cell_type": "code",
   "execution_count": null,
   "metadata": {
    "scrolled": false
   },
   "outputs": [],
   "source": [
    "#print(latest_iter)\n",
    "#print(home + \"/store/c2gen/out/\"+network_model+\"/out-c2cb-\"+str(latest_iter)+codec_sub+\".wav\")\n",
    "cb = home + \"/store/c2gen/out/\"+network_model+\"/out-c2cb-\"+str(latest_iter)\n",
    "#print(home + \"/store/c2gen/c2towav.sh\", cb)\n",
    "call([\"bash\", home + \"/store/c2gen/c2towav.sh\", cb ])\n",
    "\n",
    "try:\n",
    "  nd.plot_audio_waveform(network_model, latest_iter)\n",
    "  display(Audio(filename=home + \"/store/c2gen/out/\"+network_model+\"/out-c2cb-\"+str(latest_iter)+codec_sub+\".wav\"))\n",
    "except FileNotFoundError:\n",
    "  print(\"file not found\")\n",
    "print()"
   ]
  },
  {
   "cell_type": "markdown",
   "metadata": {},
   "source": [
    "Early Iterations\n",
    "==="
   ]
  },
  {
   "cell_type": "code",
   "execution_count": null,
   "metadata": {
    "scrolled": true
   },
   "outputs": [],
   "source": [
    "nd.plot_codec_params(network_model,iter1, scale_up='orig')\n",
    "nd.plot_spec_params(network_model,iter1, params='Voicing')\n",
    "nd.plot_spec_params(network_model,iter1, params='Wo')\n",
    "nd.plot_spec_params(network_model,iter1, params='E')\n",
    "nd.plot_spec_params(network_model,iter1, params='LSPs')"
   ]
  },
  {
   "cell_type": "code",
   "execution_count": null,
   "metadata": {
    "scrolled": false
   },
   "outputs": [],
   "source": [
    "nd.plot_audio_waveform(network_model, iter1)"
   ]
  },
  {
   "cell_type": "markdown",
   "metadata": {},
   "source": [
    "Listen to the WAV file"
   ]
  },
  {
   "cell_type": "code",
   "execution_count": null,
   "metadata": {
    "scrolled": false
   },
   "outputs": [],
   "source": [
    "display(Audio(filename=home + \"/store/c2gen/out/\"+network_model+\"/out-c2cb-\"+str(iter1)+codec_sub+\".wav\"))"
   ]
  },
  {
   "cell_type": "markdown",
   "metadata": {},
   "source": [
    "Later Iterations\n",
    "==="
   ]
  },
  {
   "cell_type": "code",
   "execution_count": null,
   "metadata": {},
   "outputs": [],
   "source": [
    "nd.plot_codec_params(network_model,iter2, scale_up=True)\n",
    "nd.plot_spec_params(network_model,iter2, params='Voicing')\n",
    "nd.plot_spec_params(network_model,iter2, params='Wo')\n",
    "nd.plot_spec_params(network_model,iter2, params='E')\n",
    "nd.plot_spec_params(network_model,iter2, params='LSPs')"
   ]
  },
  {
   "cell_type": "code",
   "execution_count": null,
   "metadata": {
    "scrolled": true
   },
   "outputs": [],
   "source": [
    "nd.plot_audio_waveform(network_model, iter2)"
   ]
  },
  {
   "cell_type": "markdown",
   "metadata": {},
   "source": [
    "Listen to the WAV file"
   ]
  },
  {
   "cell_type": "code",
   "execution_count": null,
   "metadata": {},
   "outputs": [],
   "source": [
    "display(Audio(filename=home + \"/store/c2gen/out/\"+network_model+\"/out-c2cb-\"+str(iter2)+codec_sub+\".wav\"))"
   ]
  },
  {
   "cell_type": "raw",
   "metadata": {},
   "source": []
  },
  {
   "cell_type": "code",
   "execution_count": null,
   "metadata": {
    "collapsed": true
   },
   "outputs": [],
   "source": []
  }
 ],
 "metadata": {
  "kernelspec": {
   "display_name": "Python 3",
   "language": "python",
   "name": "python3"
  },
  "language_info": {
   "codemirror_mode": {
    "name": "ipython",
    "version": 3
   },
   "file_extension": ".py",
   "mimetype": "text/x-python",
   "name": "python",
   "nbconvert_exporter": "python",
   "pygments_lexer": "ipython3",
   "version": "3.6.1"
  }
 },
 "nbformat": 4,
 "nbformat_minor": 2
}
